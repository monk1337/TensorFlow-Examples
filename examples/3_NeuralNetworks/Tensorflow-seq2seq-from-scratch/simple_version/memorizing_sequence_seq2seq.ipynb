{
 "cells": [
  {
   "cell_type": "code",
   "execution_count": 95,
   "metadata": {
    "ExecuteTime": {
     "end_time": "2018-06-30T18:50:13.788603Z",
     "start_time": "2018-06-30T18:50:13.783803Z"
    },
    "collapsed": true
   },
   "outputs": [],
   "source": [
    "#importing libraries\n",
    "#reference : https://arxiv.org/pdf/1409.3215.pdf\n",
    "\n",
    "\n",
    "import tensorflow as tf\n",
    "from tensorflow.contrib import rnn\n",
    "import numpy as np\n",
    "import helpers\n",
    "\n",
    "tf.reset_default_graph()\n",
    "\n"
   ]
  },
  {
   "cell_type": "code",
   "execution_count": 96,
   "metadata": {
    "ExecuteTime": {
     "end_time": "2018-06-30T18:50:14.827080Z",
     "start_time": "2018-06-30T18:50:14.817786Z"
    },
    "collapsed": true
   },
   "outputs": [],
   "source": [
    "#some hyper parameters\n",
    "\n",
    "encoder_vocab_size = 100  # suppose our encoding data vocab size is 100 \n",
    "decoder_vocab_size = 150  # and decoding data vocab size is 150\n",
    "\n",
    "batch_size=10\n",
    "\n",
    "encoder_hidden_unit = 100\n",
    "decoder_hidden_unit = 100\n",
    "\n",
    "encoder_embedding_dim=50\n",
    "decoder_embedding_dim=50\n"
   ]
  },
  {
   "cell_type": "code",
   "execution_count": 97,
   "metadata": {
    "ExecuteTime": {
     "end_time": "2018-06-30T18:50:15.926532Z",
     "start_time": "2018-06-30T18:50:15.913006Z"
    },
    "collapsed": false
   },
   "outputs": [
    {
     "name": "stdout",
     "output_type": "stream",
     "text": [
      "Tensor(\"encoder_input:0\", shape=(?, ?), dtype=int32)\n"
     ]
    }
   ],
   "source": [
    "#inputs :  encoder_input , decoder_input , decoder_target\n",
    "\n",
    "\n",
    "encoder_input = tf.placeholder(name='encoder_input',shape=[None,None],dtype=tf.int32)\n",
    "decoder_input = tf.placeholder(name='decoder_input',shape=[None,None],dtype=tf.int32)\n",
    "decoder_target= tf.placeholder(name='decoder_target',shape=[None,None],dtype=tf.int32)\n",
    "\n",
    "#ecoder input should be  [Max_time,batch]  time major  \n",
    "#decoder input should be [Max_time,batch]  time major\n",
    "#decoder_target should be [Max_time,batch] time major\n",
    "print(encoder_input)"
   ]
  },
  {
   "cell_type": "code",
   "execution_count": 98,
   "metadata": {
    "ExecuteTime": {
     "end_time": "2018-06-30T18:50:17.108003Z",
     "start_time": "2018-06-30T18:50:17.077151Z"
    },
    "collapsed": false
   },
   "outputs": [
    {
     "name": "stdout",
     "output_type": "stream",
     "text": [
      "Tensor(\"embedding_lookup:0\", shape=(?, ?, 50), dtype=float32)\n"
     ]
    }
   ],
   "source": [
    "#embedding for encoder , decoder\n",
    "\n",
    "\n",
    "\n",
    "#use tf.get_variable instead of tf.Variable\n",
    "encoder_embedding = tf.get_variable(name='encoder_embedding',\n",
    "                                    shape=[encoder_vocab_size,encoder_embedding_dim],\n",
    "                                    dtype=tf.float32,\n",
    "                                    initializer=tf.random_uniform_initializer(-0.01,0.01))\n",
    "\n",
    "decoder_embedding = tf.get_variable(name='decoder_embedding',\n",
    "                                    shape=[decoder_vocab_size,decoder_embedding_dim],\n",
    "                                    dtype=tf.float32,\n",
    "                                    initializer=tf.random_uniform_initializer(-0.01,0.01))\n",
    "\n",
    "embedd_encoder = tf.nn.embedding_lookup(encoder_embedding,encoder_input)\n",
    "#now encoder input will become [ max_time , batch_size , embedding_dim ]\n",
    "\n",
    "embedd_decoder = tf.nn.embedding_lookup(decoder_embedding,decoder_input)\n",
    "#now decoder input will become [ max_time , batch_size , embedding_dim ]\n",
    "\n",
    "print(embedd_encoder)"
   ]
  },
  {
   "cell_type": "code",
   "execution_count": 99,
   "metadata": {
    "ExecuteTime": {
     "end_time": "2018-06-30T18:50:19.211425Z",
     "start_time": "2018-06-30T18:50:19.205812Z"
    },
    "collapsed": true
   },
   "outputs": [],
   "source": [
    "#cell for rnn\n",
    "\n",
    "encoder_cell = rnn.LSTMCell(num_units=encoder_hidden_unit)\n",
    "decoder_cell = rnn.LSTMCell(num_units=decoder_hidden_unit)"
   ]
  },
  {
   "cell_type": "code",
   "execution_count": 100,
   "metadata": {
    "ExecuteTime": {
     "end_time": "2018-06-30T18:50:20.406582Z",
     "start_time": "2018-06-30T18:50:20.266266Z"
    },
    "collapsed": true
   },
   "outputs": [],
   "source": [
    "#encoder\n",
    "\n",
    "encoder_model, encoder_last_state = tf.nn.dynamic_rnn(cell=encoder_cell,\n",
    "                                                      inputs=embedd_encoder,\n",
    "                                                      time_major=True,\n",
    "                                                      dtype=tf.float32)"
   ]
  },
  {
   "cell_type": "code",
   "execution_count": 101,
   "metadata": {
    "ExecuteTime": {
     "end_time": "2018-06-30T18:50:22.149576Z",
     "start_time": "2018-06-30T18:50:22.021865Z"
    },
    "collapsed": true
   },
   "outputs": [],
   "source": [
    "#decoder \n",
    "decoder_output,decoder_last_state= tf.nn.dynamic_rnn(cell=decoder_cell,\n",
    "                                                     inputs=embedd_decoder,\n",
    "                                                     time_major=True,\n",
    "                                                     initial_state=encoder_last_state,\n",
    "                                                     dtype=tf.float32,\n",
    "                                                     scope='decoder_inputs')\n"
   ]
  },
  {
   "cell_type": "code",
   "execution_count": 102,
   "metadata": {
    "ExecuteTime": {
     "end_time": "2018-06-30T18:50:23.328495Z",
     "start_time": "2018-06-30T18:50:23.250940Z"
    },
    "collapsed": true
   },
   "outputs": [],
   "source": [
    "#projection layer without activation\n",
    "\n",
    "linear_projection = tf.contrib.layers.fully_connected(decoder_output,decoder_vocab_size)\n",
    "\n",
    "\n",
    "#taking max argument\n",
    "prediction = tf.argmax(linear_projection,2)\n"
   ]
  },
  {
   "cell_type": "code",
   "execution_count": 103,
   "metadata": {
    "ExecuteTime": {
     "end_time": "2018-06-30T18:50:25.414696Z",
     "start_time": "2018-06-30T18:50:25.366434Z"
    },
    "collapsed": false
   },
   "outputs": [],
   "source": [
    "cross_entropy = tf.nn.softmax_cross_entropy_with_logits(labels=tf.one_hot(decoder_target,\n",
    "                                                     depth=decoder_vocab_size,dtype=tf.float32),\n",
    "                                                     logits=linear_projection)\n",
    "\n",
    "#reduce_mean\n",
    "loss=tf.reduce_mean(cross_entropy)\n",
    "\n",
    "#our aim is to minimize this loss\n"
   ]
  },
  {
   "cell_type": "code",
   "execution_count": 104,
   "metadata": {
    "ExecuteTime": {
     "end_time": "2018-06-30T18:50:28.061567Z",
     "start_time": "2018-06-30T18:50:27.385508Z"
    },
    "collapsed": true
   },
   "outputs": [],
   "source": [
    "train = tf.train.AdamOptimizer().minimize(loss)"
   ]
  },
  {
   "cell_type": "code",
   "execution_count": 86,
   "metadata": {
    "ExecuteTime": {
     "end_time": "2018-06-30T18:47:44.717641Z",
     "start_time": "2018-06-30T18:47:44.486022Z"
    },
    "collapsed": false
   },
   "outputs": [
    {
     "name": "stdout",
     "output_type": "stream",
     "text": [
      "encoder_input \n",
      " [[7 2 3]\n",
      " [4 4 2]\n",
      " [3 1 1]\n",
      " [3 0 4]\n",
      " [1 5 1]]\n",
      "decoder_input \n",
      " [[7 2 6]\n",
      " [4 6 6]\n",
      " [5 3 0]\n",
      " [8 4 9]]\n",
      "prediction_data \n",
      " [[ 45  50  15]\n",
      " [111  50  15]\n",
      " [111  50  17]\n",
      " [  6 111  15]]\n"
     ]
    }
   ],
   "source": [
    "# #let's check network\n",
    "\n",
    "# #make sure your encoder and decoder input and decoder taget batch size is same , time_stamps can be differ but batch_size\n",
    "# #should be same otherwise you will get dim mismatch Error\n",
    "\n",
    "# #fake data\n",
    "# encoder_input_ = np.random.randint(0,10,[5,3])  #time major  [max_time , batch]\n",
    "# print(\"encoder_input \\n\",encoder_input_)\n",
    "\n",
    "# decoder_input_ = np.random.randint(0,10,[4,3])  #time_major  [max_time , batch]\n",
    "# print(\"decoder_input \\n\",decoder_input_)\n",
    "\n",
    "# with tf.Session() as sess:\n",
    "#     sess.run(tf.global_variables_initializer())\n",
    "#     prediction_data = sess.run(prediction,feed_dict={encoder_input:encoder_input_,decoder_input:decoder_input_})\n",
    "#     print(\"prediction_data \\n\",prediction_data)"
   ]
  },
  {
   "cell_type": "code",
   "execution_count": 106,
   "metadata": {
    "ExecuteTime": {
     "end_time": "2018-06-30T18:53:50.732378Z",
     "start_time": "2018-06-30T18:50:55.972610Z"
    },
    "collapsed": false
   },
   "outputs": [
    {
     "name": "stdout",
     "output_type": "stream",
     "text": [
      "batch 0\n",
      "  minibatch loss: 5.005568504333496\n",
      "  sample 1:\n",
      "    input     > [7 9 6 8 4 0 0 0]\n",
      "    predicted > [6 6 5 5 5 0 0 0 0]\n",
      "  sample 2:\n",
      "    input     > [6 2 8 0 0 0 0 0]\n",
      "    predicted > [6 6 6 5 5 0 0 0 0]\n",
      "  sample 3:\n",
      "    input     > [2 4 2 6 9 8 3 0]\n",
      "    predicted > [6 6 6 6 6 5 5 5 5]\n",
      "\n",
      "batch 1000\n",
      "  minibatch loss: 1.1616154909133911\n",
      "  sample 1:\n",
      "    input     > [6 3 7 8 2 7 9 0]\n",
      "    predicted > [7 7 7 7 7 7 7 1 0]\n",
      "  sample 2:\n",
      "    input     > [2 3 7 9 9 0 0 0]\n",
      "    predicted > [7 7 7 7 7 1 0 0 0]\n",
      "  sample 3:\n",
      "    input     > [7 5 3 0 0 0 0 0]\n",
      "    predicted > [2 4 3 1 0 0 0 0 0]\n",
      "\n",
      "batch 2000\n",
      "  minibatch loss: 0.19712510704994202\n",
      "  sample 1:\n",
      "    input     > [5 2 4 8 0 0 0 0]\n",
      "    predicted > [5 2 4 8 1 0 0 0 0]\n",
      "  sample 2:\n",
      "    input     > [8 8 7 9 9 2 2 5]\n",
      "    predicted > [8 8 7 9 8 2 2 5 1]\n",
      "  sample 3:\n",
      "    input     > [4 6 5 8 9 5 0 0]\n",
      "    predicted > [4 6 9 8 9 5 1 0 0]\n",
      "\n",
      "batch 3000\n",
      "  minibatch loss: 0.059102702885866165\n",
      "  sample 1:\n",
      "    input     > [7 2 6 3 5 5 9 0]\n",
      "    predicted > [7 2 6 3 5 5 9 1 0]\n",
      "  sample 2:\n",
      "    input     > [5 9 3 2 0 0 0 0]\n",
      "    predicted > [5 9 3 2 1 0 0 0 0]\n",
      "  sample 3:\n",
      "    input     > [5 4 8 6 6 7 9 3]\n",
      "    predicted > [5 4 8 6 6 7 9 3 1]\n",
      "\n"
     ]
    }
   ],
   "source": [
    "batch_size = 100\n",
    "\n",
    "PAD = 0\n",
    "EOS = 1\n",
    "batches = helpers.random_sequences(length_from=3, length_to=8,\n",
    "                                   vocab_lower=2, vocab_upper=10,\n",
    "                                   batch_size=batch_size)\n",
    "def next_feed():\n",
    "    batch = next(batches)\n",
    "    encoder_inputs_, _ = helpers.batch(batch)\n",
    "    decoder_targets_, _ = helpers.batch(\n",
    "        [(sequence) + [EOS] for sequence in batch]\n",
    "    )\n",
    "    decoder_inputs_, _ = helpers.batch(\n",
    "        [[EOS] + (sequence) for sequence in batch]\n",
    "    )\n",
    "    return {\n",
    "        encoder_input: encoder_inputs_,\n",
    "        decoder_input: decoder_inputs_,\n",
    "        decoder_target: decoder_targets_,\n",
    "    }\n",
    "\n",
    "max_batches = 3001\n",
    "batches_in_epoch = 1000\n",
    "loss_track = []\n",
    "\n",
    "\n",
    "\n",
    "with tf.Session() as sess:\n",
    "    sess.run(tf.global_variables_initializer())\n",
    "    for batch in range(max_batches):\n",
    "        fd = next_feed()\n",
    "        _, l = sess.run([train, loss], fd)\n",
    "        loss_track.append(l)\n",
    "\n",
    "        if batch == 0 or batch % batches_in_epoch == 0:\n",
    "            print('batch {}'.format(batch))\n",
    "            print('  minibatch loss: {}'.format(sess.run(loss, fd)))\n",
    "            predict_ = sess.run(prediction, fd)\n",
    "            for i, (inp, pred) in enumerate(zip(fd[encoder_input].T, predict_.T)):\n",
    "                print('  sample {}:'.format(i + 1))\n",
    "                print('    input     > {}'.format(inp))\n",
    "                print('    predicted > {}'.format(pred))\n",
    "                if i >= 2:\n",
    "                    break\n",
    "            print()\n"
   ]
  },
  {
   "cell_type": "code",
   "execution_count": 107,
   "metadata": {
    "ExecuteTime": {
     "end_time": "2018-06-30T18:54:04.312640Z",
     "start_time": "2018-06-30T18:54:02.450025Z"
    },
    "collapsed": false
   },
   "outputs": [
    {
     "name": "stdout",
     "output_type": "stream",
     "text": [
      "loss 0.0657 after 300100 examples (batch_size=100)\n"
     ]
    },
    {
     "data": {
      "image/png": "[encoded data removed]",
      "text/plain": [
       "<matplotlib.figure.Figure at 0xd232802b0>"
      ]
     },
     "metadata": {},
     "output_type": "display_data"
    }
   ],
   "source": [
    "%matplotlib inline\n",
    "import matplotlib.pyplot as plt\n",
    "plt.plot(loss_track)\n",
    "print('loss {:.4f} after {} examples (batch_size={})'.format(loss_track[-1], len(loss_track)*batch_size, batch_size))"
   ]
  },
  {
   "cell_type": "code",
   "execution_count": null,
   "metadata": {
    "collapsed": true
   },
   "outputs": [],
   "source": []
  }
 ],
 "metadata": {
  "kernelspec": {
   "display_name": "Python [anaconda]",
   "language": "python",
   "name": "Python [anaconda]"
  },
  "language_info": {
   "codemirror_mode": {
    "name": "ipython",
    "version": 3
   },
   "file_extension": ".py",
   "mimetype": "text/x-python",
   "name": "python",
   "nbconvert_exporter": "python",
   "pygments_lexer": "ipython3",
   "version": "3.5.4"
  }
 },
 "nbformat": 4,
 "nbformat_minor": 2
}
