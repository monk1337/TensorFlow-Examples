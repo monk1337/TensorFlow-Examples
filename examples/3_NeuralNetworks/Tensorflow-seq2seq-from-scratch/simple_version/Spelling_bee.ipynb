{
 "cells": [
  {
   "cell_type": "code",
   "execution_count": 1,
   "metadata": {
    "collapsed": false
   },
   "outputs": [
    {
     "name": "stderr",
     "output_type": "stream",
     "text": [
      "/usr/lib/python3.6/importlib/_bootstrap.py:219: RuntimeWarning: compiletime version 3.5 of module 'tensorflow.python.framework.fast_tensor_util' does not match runtime version 3.6\n",
      "  return f(*args, **kwds)\n",
      "/home/ANANT/apal/.local/lib/python3.6/site-packages/h5py/__init__.py:36: FutureWarning: Conversion of the second argument of issubdtype from `float` to `np.floating` is deprecated. In future, it will be treated as `np.float64 == np.dtype(float).type`.\n",
      "  from ._conv import register_converters as _register_converters\n"
     ]
    }
   ],
   "source": [
    "import tensorflow as tf\n",
    "from tensorflow.contrib import rnn\n",
    "tf.reset_default_graph()"
   ]
  },
  {
   "cell_type": "code",
   "execution_count": 2,
   "metadata": {
    "collapsed": true
   },
   "outputs": [],
   "source": [
    "#hyper parameters\n",
    "\n",
    "\n",
    "encoder_vocab_size = 69\n",
    "decoder_vocab_size = 41\n",
    "\n",
    "\n",
    "encoder_embedding_size = 50\n",
    "decoder_embedding_size = 50\n",
    "\n",
    "encoder_hidden_size = 150\n",
    "decoder_hidden_size = 150\n",
    "\n"
   ]
  },
  {
   "cell_type": "code",
   "execution_count": 3,
   "metadata": {
    "collapsed": false
   },
   "outputs": [],
   "source": [
    "encoder_input = tf.placeholder(name='encoder_in',dtype=tf.int32,shape=[None,None])\n",
    "decoder_input = tf.placeholder(name='decoder_in',dtype=tf.int32,shape=[None,None])\n",
    "\n",
    "decoder_target= tf.placeholder(name='decoder_target',dtype=tf.int32,shape=[None,None])\n",
    "\n",
    "\n",
    "encoder_embedding = tf.get_variable(name='encoder_embedd',\n",
    "                                    shape=[encoder_vocab_size,encoder_embedding_size],\n",
    "                                    dtype=tf.float32,\n",
    "                                    initializer=tf.random_uniform_initializer(-0.01,0.01))\n",
    "\n",
    "decoder_embedding = tf.get_variable(name='decoder_embedd',shape=[decoder_vocab_size,decoder_embedding_size],\n",
    "                                    dtype=tf.float32,\n",
    "                                    initializer=tf.random_uniform_initializer(-0.01,0.01))\n",
    "\n",
    "embedd_encoder= tf.nn.embedding_lookup(encoder_embedding,encoder_input)\n",
    "embedd_decoder= tf.nn.embedding_lookup(decoder_embedding,decoder_input)\n",
    "\n"
   ]
  },
  {
   "cell_type": "code",
   "execution_count": 4,
   "metadata": {
    "collapsed": true
   },
   "outputs": [],
   "source": [
    "encoder_cell = rnn.LSTMCell(num_units=encoder_hidden_size)\n",
    "encoder_cel =  rnn.DropoutWrapper(encoder_cell,output_keep_prob=0.5)\n",
    "decoder_cell = rnn.LSTMCell(num_units= decoder_hidden_size)\n",
    "decoder_cel = rnn.DropoutWrapper(decoder_cell,output_keep_prob=0.5)"
   ]
  },
  {
   "cell_type": "code",
   "execution_count": 5,
   "metadata": {
    "collapsed": false
   },
   "outputs": [],
   "source": [
    "encoder_network,encoder_last_state = tf.nn.dynamic_rnn(cell=encoder_cel,\n",
    "                                    inputs=embedd_encoder,\n",
    "                                    dtype=tf.float32,\n",
    "                                    time_major=True)\n",
    "\n",
    "decoder_network,decoder_last_state = tf.nn.dynamic_rnn(cell=decoder_cel,\n",
    "                                    inputs=embedd_decoder,\n",
    "                                    dtype=tf.float32,\n",
    "                                    time_major=True,\n",
    "                                    initial_state=encoder_last_state,scope='decoder_out')\n",
    "\n",
    "linear_projection = tf.contrib.layers.fully_connected(decoder_network,decoder_vocab_size)\n",
    "\n",
    "prediction = tf.argmax(linear_projection,2)\n",
    "\n",
    "cross_entropy= tf.nn.softmax_cross_entropy_with_logits(labels=tf.one_hot(decoder_target,\n",
    "                                                                         depth=decoder_vocab_size,\n",
    "                                                                         dtype=tf.float32),\n",
    "                                                       logits=linear_projection)\n",
    "\n",
    "loss= tf.reduce_mean(cross_entropy)\n",
    "\n",
    "train= tf.train.AdamOptimizer().minimize(loss)\n",
    "\n",
    "\n",
    "# encoder_input_ = np.random.randint(0,10,[5,3])  #time major  [max_time , batch]\n",
    "# print(\"encoder_input \\n\",encoder_input_)\n",
    "\n",
    "# decoder_input_ = np.random.randint(0,10,[4,3])  #time_major  [max_time , batch]\n",
    "# print(\"decoder_input \\n\",decoder_input_)\n",
    "\n",
    "# with tf.Session() as sess:\n",
    "#     sess.run(tf.global_variables_initializer())\n",
    "#     prediction_data = sess.run(prediction,feed_dict={encoder_input:encoder_input_,decoder_input:decoder_input_})\n",
    "#     print(\"prediction_data \\n\",prediction_data)\n"
   ]
  },
  {
   "cell_type": "code",
   "execution_count": 6,
   "metadata": {
    "collapsed": false
   },
   "outputs": [],
   "source": [
    "\n",
    "import numpy as np\n",
    "\n",
    "index_to_ph = {0: 'PAD', 1: 'AA0', 2: 'AA1', 3: 'AA2', 4: 'AE0', 5: 'AE1', 6: 'AE2', 7: 'AH0', \n",
    "               8: 'AH1', 9: 'AH2', 10: 'AO0', 11: 'AO1', 12: 'AO2', 13: 'AW0', 14: 'AW1', \n",
    "               15: 'AW2', 16: 'AY0', 17: 'AY1', 18: 'AY2', 19: 'B', 20: 'CH', 21: 'D', \n",
    "               22: 'DH', 23: 'EH0', 24: 'EH1', 25: 'EH2', 26: 'ER0', 27: 'ER1', 28: 'ER2', \n",
    "               29: 'EY0', 30: 'EY1', 31: 'EY2', 32: 'F', 33: 'G', 34: 'HH', 35: 'IH0', \n",
    "               36: 'IH1', 37: 'IH2', 38: 'IY0', 39: 'IY1', 40: 'IY2', 41: 'JH', 42: 'K', \n",
    "               43: 'L', 44: 'M', 45: 'N', 46: 'NG', 47: 'OW0', 48: 'OW1', 49: 'OW2', \n",
    "               50: 'OY0', 51: 'OY1', 52: 'OY2', 53: 'P', 54: 'R', 55: 'S', 56: 'SH', \n",
    "               57: 'T', 58: 'TH', 59: 'UH0', 60: 'UH1', 61: 'UH2', 62: 'UW0', 63: 'UW1', \n",
    "               64: 'UW2', 65: 'V', 66: 'W', 67: 'Y', 68: 'Z', 69: 'ZH'}\n",
    "\n",
    "\n",
    "ph_to_index = {j:i for i,j in index_to_ph.items()}\n",
    "\n",
    "\n",
    "\n",
    "index_to_words= {0: 'PAD', 1: 'GO', 2: 'EOS', 3: '+', 4: '0', 5: '1', 6: '2', 7: '3', \n",
    "                 8: '4', 9: '5', 10: '6', 11: '7', 12: '8', 13: '9', 14: 'a', 15: 'b', \n",
    "                 16: 'c', 17: 'd', 18: 'e', 19: 'f', 20: 'g', 21: 'h', 22: 'i', 23: 'j', \n",
    "                 24: 'k', 25: 'l', 26: 'm', 27: 'n', 28: 'o', 29: 'p', 30: 'q', 31: 'r', \n",
    "                 32: 's', 33: 't', 34: 'u', 35: 'v', 36: 'w', 37: 'x', 38: 'y', 39: 'z', \n",
    "                 40: 'à', 41: 'é'}\n",
    "\n",
    "\n",
    "words_to_index = {j:i for i,j in index_to_words.items()}\n"
   ]
  },
  {
   "cell_type": "code",
   "execution_count": 27,
   "metadata": {
    "collapsed": false
   },
   "outputs": [],
   "source": [
    "# import pickle as pk\n",
    "# import random\n",
    "# import numpy as np\n",
    "\n",
    "# with open('encoded_data_pad','rb') as f:\n",
    "#     file_opn=pk.load(f)\n",
    "\n",
    "# random.shuffle(file_opn)"
   ]
  },
  {
   "cell_type": "code",
   "execution_count": 28,
   "metadata": {
    "collapsed": false
   },
   "outputs": [],
   "source": [
    "# train_data_int=int(len(file_opn)*0.90)\n",
    "\n",
    "# train_data = file_opn[:train_data_int][:30000]\n",
    "# test_data = file_opn[train_data_int:][:5000]\n",
    "\n",
    "# np.save('train_data_p',train_data)\n",
    "# np.save('test_data_p',test_data)"
   ]
  },
  {
   "cell_type": "code",
   "execution_count": 7,
   "metadata": {
    "collapsed": false
   },
   "outputs": [],
   "source": [
    "import numpy as np\n",
    "import random\n",
    "train_da= np.load('train_data_p.npy')\n",
    "test_da = np.load('test_data_p.npy')\n",
    "\n",
    "\n",
    "\n",
    "def get_train_batch(i,batch_size=None):\n",
    "    batch_d= train_da[i*batch_size:(i+1)*batch_size]\n",
    "    phe_n=[]\n",
    "    words=[]\n",
    "    for i in batch_d:\n",
    "        words.append(i[0])\n",
    "        phe_n.append(i[1])\n",
    "#     print(phe_n)\n",
    "\n",
    "    max_phe=max([len(i) for i in phe_n])\n",
    "    max_words= max([len(i) for i in words])\n",
    "    padded_phe =[i + [0]*(max_phe-len(i))  if len(i)<max_phe else i for i in phe_n]\n",
    "    \n",
    "    \n",
    "    padded_words = [[words_to_index['GO']] + i + [0]*(max_words-len(i)) if len(i)< max_words else [words_to_index['GO']] + i for i in words]\n",
    "    \n",
    "  \n",
    "    \n",
    "    padded_target =[i + [words_to_index['EOS']] for i in words]\n",
    "    max_target=max([len(i) for i in padded_target])\n",
    "    padded_target_ =[i + [0]*(max_target-len(i))  if len(i)<max_target else i for i in padded_target]\n",
    " \n",
    "    \n",
    "    \n",
    "    \n",
    "\n",
    "    return {'encoder_in': np.transpose(np.array(padded_phe),[1,0]),\n",
    "            'decoder_in':np.transpose(np.array(padded_words),[1,0]),\n",
    "            'decoder_targ':np.transpose(np.array(padded_target_),[1,0])}\n",
    "    \n",
    "# def get_test_data():\n",
    "#     nb=random.randint(1,len(test_da)-5)\n",
    "#     print(nb)\n",
    "#     inference=np.random.randint(0,0,[5])\n",
    "#     print(inference)\n",
    "#     return test_da[nb:nb+5]\n",
    "\n",
    "\n",
    "\n",
    "# print(get_train_batch(1,batch_size=2))\n",
    "# d=get_train_batch(1)\n",
    "# print(d['encoder_in'].shape)\n",
    "# print(d['decoder_in'].shape)\n",
    "# print(d['decoder_targ'].shape)\n",
    "\n",
    "#word,phe\n",
    "#take input  == > pad == > convert it to time major \n",
    "#take output ===> pad ===> convert it to time major\n",
    "\n"
   ]
  },
  {
   "cell_type": "code",
   "execution_count": 8,
   "metadata": {
    "collapsed": false
   },
   "outputs": [
    {
     "data": {
      "application/vnd.jupyter.widget-view+json": {
       "model_id": "0783522d9bc2493da81456cefd02d74c"
      }
     },
     "metadata": {},
     "output_type": "display_data"
    },
    {
     "name": "stdout",
     "output_type": "stream",
     "text": [
      "\n",
      "{'epoch': 0, 'loss': 1.8948039, 'predf': array([[22],\n",
      "       [14],\n",
      "       [22],\n",
      "       [27],\n",
      "       [18],\n",
      "       [18],\n",
      "       [18],\n",
      "       [ 2],\n",
      "       [ 2],\n",
      "       [ 2]]), 'actual': array([[ 1],\n",
      "       [23],\n",
      "       [14],\n",
      "       [16],\n",
      "       [24],\n",
      "       [32],\n",
      "       [17],\n",
      "       [18],\n",
      "       [22],\n",
      "       [33]])}\n"
     ]
    },
    {
     "data": {
      "application/vnd.jupyter.widget-view+json": {
       "model_id": "a55a749033994d53b1b13a49ff9d6a4c"
      }
     },
     "metadata": {},
     "output_type": "display_data"
    },
    {
     "name": "stdout",
     "output_type": "stream",
     "text": [
      "\n",
      "{'epoch': 1, 'loss': 1.7246128, 'predf': array([[32],\n",
      "       [14],\n",
      "       [31],\n",
      "       [22],\n",
      "       [18],\n",
      "       [14],\n",
      "       [18],\n",
      "       [27],\n",
      "       [ 2],\n",
      "       [ 2]]), 'actual': array([[ 1],\n",
      "       [23],\n",
      "       [14],\n",
      "       [16],\n",
      "       [24],\n",
      "       [32],\n",
      "       [17],\n",
      "       [18],\n",
      "       [22],\n",
      "       [33]])}\n"
     ]
    },
    {
     "data": {
      "application/vnd.jupyter.widget-view+json": {
       "model_id": "47a0703ad7f24cacb5ae7c49fe7e97f0"
      }
     },
     "metadata": {},
     "output_type": "display_data"
    },
    {
     "name": "stdout",
     "output_type": "stream",
     "text": [
      "\n",
      "{'epoch': 2, 'loss': 1.6721714, 'predf': array([[31],\n",
      "       [18],\n",
      "       [27],\n",
      "       [14],\n",
      "       [18],\n",
      "       [22],\n",
      "       [18],\n",
      "       [31],\n",
      "       [32],\n",
      "       [ 2]]), 'actual': array([[ 1],\n",
      "       [23],\n",
      "       [14],\n",
      "       [16],\n",
      "       [24],\n",
      "       [32],\n",
      "       [17],\n",
      "       [18],\n",
      "       [22],\n",
      "       [33]])}\n"
     ]
    },
    {
     "data": {
      "application/vnd.jupyter.widget-view+json": {
       "model_id": "26a7ae447b624e3f8bbb6eed3c34b675"
      }
     },
     "metadata": {},
     "output_type": "display_data"
    },
    {
     "name": "stdout",
     "output_type": "stream",
     "text": [
      "\n",
      "{'epoch': 3, 'loss': 1.5955616, 'predf': array([[17],\n",
      "       [28],\n",
      "       [31],\n",
      "       [22],\n",
      "       [18],\n",
      "       [18],\n",
      "       [18],\n",
      "       [32],\n",
      "       [ 2],\n",
      "       [ 2]]), 'actual': array([[ 1],\n",
      "       [23],\n",
      "       [14],\n",
      "       [16],\n",
      "       [24],\n",
      "       [32],\n",
      "       [17],\n",
      "       [18],\n",
      "       [22],\n",
      "       [33]])}\n"
     ]
    },
    {
     "data": {
      "application/vnd.jupyter.widget-view+json": {
       "model_id": "7ea64a6d8ef241ccae829a7b8e16992a"
      }
     },
     "metadata": {},
     "output_type": "display_data"
    },
    {
     "name": "stdout",
     "output_type": "stream",
     "text": [
      "\n",
      "{'epoch': 4, 'loss': 1.5032647, 'predf': array([[16],\n",
      "       [28],\n",
      "       [31],\n",
      "       [21],\n",
      "       [18],\n",
      "       [22],\n",
      "       [18],\n",
      "       [31],\n",
      "       [32],\n",
      "       [ 2]]), 'actual': array([[ 1],\n",
      "       [23],\n",
      "       [14],\n",
      "       [16],\n",
      "       [24],\n",
      "       [32],\n",
      "       [17],\n",
      "       [18],\n",
      "       [22],\n",
      "       [33]])}\n"
     ]
    },
    {
     "data": {
      "application/vnd.jupyter.widget-view+json": {
       "model_id": "8a1f9ea693554e99bd8be2fcc14dca11"
      }
     },
     "metadata": {},
     "output_type": "display_data"
    },
    {
     "name": "stdout",
     "output_type": "stream",
     "text": [
      "\n",
      "{'epoch': 5, 'loss': 1.3984362, 'predf': array([[16],\n",
      "       [28],\n",
      "       [26],\n",
      "       [21],\n",
      "       [18],\n",
      "       [33],\n",
      "       [18],\n",
      "       [31],\n",
      "       [27],\n",
      "       [ 2]]), 'actual': array([[ 1],\n",
      "       [23],\n",
      "       [14],\n",
      "       [16],\n",
      "       [24],\n",
      "       [32],\n",
      "       [17],\n",
      "       [18],\n",
      "       [22],\n",
      "       [33]])}\n"
     ]
    },
    {
     "data": {
      "application/vnd.jupyter.widget-view+json": {
       "model_id": "6b49afdafac84ef69c23d350e094b4c4"
      }
     },
     "metadata": {},
     "output_type": "display_data"
    },
    {
     "name": "stdout",
     "output_type": "stream",
     "text": [
      "\n",
      "{'epoch': 6, 'loss': 1.2934519, 'predf': array([[20],\n",
      "       [28],\n",
      "       [32],\n",
      "       [21],\n",
      "       [18],\n",
      "       [18],\n",
      "       [18],\n",
      "       [31],\n",
      "       [27],\n",
      "       [ 2]]), 'actual': array([[ 1],\n",
      "       [23],\n",
      "       [14],\n",
      "       [16],\n",
      "       [24],\n",
      "       [32],\n",
      "       [17],\n",
      "       [18],\n",
      "       [22],\n",
      "       [33]])}\n"
     ]
    },
    {
     "data": {
      "application/vnd.jupyter.widget-view+json": {
       "model_id": "55cb544eea2846cfad2cf57de18f9368"
      }
     },
     "metadata": {},
     "output_type": "display_data"
    },
    {
     "name": "stdout",
     "output_type": "stream",
     "text": [
      "\n",
      "{'epoch': 7, 'loss': 1.19755, 'predf': array([[16],\n",
      "       [28],\n",
      "       [20],\n",
      "       [28],\n",
      "       [14],\n",
      "       [16],\n",
      "       [22],\n",
      "       [27],\n",
      "       [27],\n",
      "       [ 2]]), 'actual': array([[ 1],\n",
      "       [23],\n",
      "       [14],\n",
      "       [16],\n",
      "       [24],\n",
      "       [32],\n",
      "       [17],\n",
      "       [18],\n",
      "       [22],\n",
      "       [33]])}\n"
     ]
    },
    {
     "data": {
      "application/vnd.jupyter.widget-view+json": {
       "model_id": "2c314290c77b4d5bb8c8080780b84a5b"
      }
     },
     "metadata": {},
     "output_type": "display_data"
    },
    {
     "name": "stdout",
     "output_type": "stream",
     "text": [
      "\n",
      "{'epoch': 8, 'loss': 1.1111218, 'predf': array([[16],\n",
      "       [28],\n",
      "       [16],\n",
      "       [16],\n",
      "       [14],\n",
      "       [16],\n",
      "       [22],\n",
      "       [32],\n",
      "       [32],\n",
      "       [ 2]]), 'actual': array([[ 1],\n",
      "       [23],\n",
      "       [14],\n",
      "       [16],\n",
      "       [24],\n",
      "       [32],\n",
      "       [17],\n",
      "       [18],\n",
      "       [22],\n",
      "       [33]])}\n"
     ]
    },
    {
     "data": {
      "application/vnd.jupyter.widget-view+json": {
       "model_id": "b6a6d60319244bf5b59955c162ce561b"
      }
     },
     "metadata": {},
     "output_type": "display_data"
    },
    {
     "name": "stdout",
     "output_type": "stream",
     "text": [
      "\n",
      "{'epoch': 9, 'loss': 1.0723636, 'predf': array([[23],\n",
      "       [14],\n",
      "       [32],\n",
      "       [24],\n",
      "       [22],\n",
      "       [24],\n",
      "       [22],\n",
      "       [32],\n",
      "       [32],\n",
      "       [ 2]]), 'actual': array([[ 1],\n",
      "       [23],\n",
      "       [14],\n",
      "       [16],\n",
      "       [24],\n",
      "       [32],\n",
      "       [17],\n",
      "       [18],\n",
      "       [22],\n",
      "       [33]])}\n"
     ]
    },
    {
     "data": {
      "application/vnd.jupyter.widget-view+json": {
       "model_id": "8cffdd512c9b4e74bf83e8e169df15af"
      }
     },
     "metadata": {},
     "output_type": "display_data"
    },
    {
     "name": "stdout",
     "output_type": "stream",
     "text": [
      "\n",
      "{'epoch': 10, 'loss': 1.019997, 'predf': array([[20],\n",
      "       [34],\n",
      "       [16],\n",
      "       [14],\n",
      "       [22],\n",
      "       [29],\n",
      "       [22],\n",
      "       [32],\n",
      "       [33],\n",
      "       [ 2]]), 'actual': array([[ 1],\n",
      "       [23],\n",
      "       [14],\n",
      "       [16],\n",
      "       [24],\n",
      "       [32],\n",
      "       [17],\n",
      "       [18],\n",
      "       [22],\n",
      "       [33]])}\n"
     ]
    },
    {
     "data": {
      "application/vnd.jupyter.widget-view+json": {
       "model_id": "ad6c8aa985cb40b8af08cd810de97b21"
      }
     },
     "metadata": {},
     "output_type": "display_data"
    },
    {
     "name": "stdout",
     "output_type": "stream",
     "text": [
      "\n",
      "{'epoch': 11, 'loss': 0.9867818, 'predf': array([[23],\n",
      "       [14],\n",
      "       [16],\n",
      "       [16],\n",
      "       [22],\n",
      "       [28],\n",
      "       [18],\n",
      "       [32],\n",
      "       [32],\n",
      "       [ 2]]), 'actual': array([[ 1],\n",
      "       [23],\n",
      "       [14],\n",
      "       [16],\n",
      "       [24],\n",
      "       [32],\n",
      "       [17],\n",
      "       [18],\n",
      "       [22],\n",
      "       [33]])}\n"
     ]
    },
    {
     "data": {
      "application/vnd.jupyter.widget-view+json": {
       "model_id": "ab2dc45b7b8246ea81202c86181660a5"
      }
     },
     "metadata": {},
     "output_type": "display_data"
    },
    {
     "name": "stdout",
     "output_type": "stream",
     "text": [
      "\n",
      "{'epoch': 12, 'loss': 0.91736233, 'predf': array([[23],\n",
      "       [28],\n",
      "       [16],\n",
      "       [24],\n",
      "       [22],\n",
      "       [29],\n",
      "       [22],\n",
      "       [32],\n",
      "       [32],\n",
      "       [ 2]]), 'actual': array([[ 1],\n",
      "       [23],\n",
      "       [14],\n",
      "       [16],\n",
      "       [24],\n",
      "       [32],\n",
      "       [17],\n",
      "       [18],\n",
      "       [22],\n",
      "       [33]])}\n"
     ]
    },
    {
     "data": {
      "application/vnd.jupyter.widget-view+json": {
       "model_id": "04f409ceeb9d459ab10b4401ce65c1b2"
      }
     },
     "metadata": {},
     "output_type": "display_data"
    },
    {
     "name": "stdout",
     "output_type": "stream",
     "text": [
      "\n",
      "{'epoch': 13, 'loss': 0.8799107, 'predf': array([[23],\n",
      "       [14],\n",
      "       [16],\n",
      "       [24],\n",
      "       [14],\n",
      "       [29],\n",
      "       [22],\n",
      "       [33],\n",
      "       [33],\n",
      "       [ 2]]), 'actual': array([[ 1],\n",
      "       [23],\n",
      "       [14],\n",
      "       [16],\n",
      "       [24],\n",
      "       [32],\n",
      "       [17],\n",
      "       [18],\n",
      "       [22],\n",
      "       [33]])}\n"
     ]
    },
    {
     "data": {
      "application/vnd.jupyter.widget-view+json": {
       "model_id": "2498c6b1394e43f9aee06bdc2a49459a"
      }
     },
     "metadata": {},
     "output_type": "display_data"
    },
    {
     "name": "stdout",
     "output_type": "stream",
     "text": [
      "\n",
      "{'epoch': 14, 'loss': 0.8023018, 'predf': array([[23],\n",
      "       [28],\n",
      "       [16],\n",
      "       [16],\n",
      "       [14],\n",
      "       [14],\n",
      "       [22],\n",
      "       [33],\n",
      "       [33],\n",
      "       [ 2]]), 'actual': array([[ 1],\n",
      "       [23],\n",
      "       [14],\n",
      "       [16],\n",
      "       [24],\n",
      "       [32],\n",
      "       [17],\n",
      "       [18],\n",
      "       [22],\n",
      "       [33]])}\n"
     ]
    },
    {
     "data": {
      "application/vnd.jupyter.widget-view+json": {
       "model_id": "20635196da6b4c5595383585544a5753"
      }
     },
     "metadata": {},
     "output_type": "display_data"
    },
    {
     "name": "stdout",
     "output_type": "stream",
     "text": [
      "\n",
      "{'epoch': 15, 'loss': 0.78439385, 'predf': array([[20],\n",
      "       [14],\n",
      "       [16],\n",
      "       [24],\n",
      "       [18],\n",
      "       [28],\n",
      "       [22],\n",
      "       [33],\n",
      "       [27],\n",
      "       [18]]), 'actual': array([[ 1],\n",
      "       [23],\n",
      "       [14],\n",
      "       [16],\n",
      "       [24],\n",
      "       [32],\n",
      "       [17],\n",
      "       [18],\n",
      "       [22],\n",
      "       [33]])}\n"
     ]
    },
    {
     "data": {
      "application/vnd.jupyter.widget-view+json": {
       "model_id": "a78a7424a17f4b54b1b4bcf46dfb0dcc"
      }
     },
     "metadata": {},
     "output_type": "display_data"
    },
    {
     "name": "stdout",
     "output_type": "stream",
     "text": [
      "\n",
      "{'epoch': 16, 'loss': 0.7710929, 'predf': array([[24],\n",
      "       [14],\n",
      "       [16],\n",
      "       [24],\n",
      "       [18],\n",
      "       [28],\n",
      "       [22],\n",
      "       [27],\n",
      "       [33],\n",
      "       [18]]), 'actual': array([[ 1],\n",
      "       [23],\n",
      "       [14],\n",
      "       [16],\n",
      "       [24],\n",
      "       [32],\n",
      "       [17],\n",
      "       [18],\n",
      "       [22],\n",
      "       [33]])}\n"
     ]
    },
    {
     "data": {
      "application/vnd.jupyter.widget-view+json": {
       "model_id": "64b147c56e064d5c9680905ef2ee27db"
      }
     },
     "metadata": {},
     "output_type": "display_data"
    },
    {
     "name": "stdout",
     "output_type": "stream",
     "text": [
      "\n",
      "{'epoch': 17, 'loss': 0.7269653, 'predf': array([[23],\n",
      "       [14],\n",
      "       [16],\n",
      "       [24],\n",
      "       [22],\n",
      "       [14],\n",
      "       [22],\n",
      "       [22],\n",
      "       [33],\n",
      "       [18]]), 'actual': array([[ 1],\n",
      "       [23],\n",
      "       [14],\n",
      "       [16],\n",
      "       [24],\n",
      "       [32],\n",
      "       [17],\n",
      "       [18],\n",
      "       [22],\n",
      "       [33]])}\n"
     ]
    },
    {
     "data": {
      "application/vnd.jupyter.widget-view+json": {
       "model_id": "da75b1c1c33d405cb7c77b791e57f105"
      }
     },
     "metadata": {},
     "output_type": "display_data"
    },
    {
     "name": "stdout",
     "output_type": "stream",
     "text": [
      "\n",
      "{'epoch': 18, 'loss': 0.6901281, 'predf': array([[23],\n",
      "       [14],\n",
      "       [16],\n",
      "       [24],\n",
      "       [18],\n",
      "       [34],\n",
      "       [22],\n",
      "       [22],\n",
      "       [27],\n",
      "       [ 2]]), 'actual': array([[ 1],\n",
      "       [23],\n",
      "       [14],\n",
      "       [16],\n",
      "       [24],\n",
      "       [32],\n",
      "       [17],\n",
      "       [18],\n",
      "       [22],\n",
      "       [33]])}\n"
     ]
    },
    {
     "data": {
      "application/vnd.jupyter.widget-view+json": {
       "model_id": "54a74650d79549b0a87950a0bdd2504a"
      }
     },
     "metadata": {},
     "output_type": "display_data"
    },
    {
     "name": "stdout",
     "output_type": "stream",
     "text": [
      "\n",
      "{'epoch': 19, 'loss': 0.6804663, 'predf': array([[23],\n",
      "       [14],\n",
      "       [16],\n",
      "       [24],\n",
      "       [14],\n",
      "       [28],\n",
      "       [22],\n",
      "       [22],\n",
      "       [32],\n",
      "       [ 2]]), 'actual': array([[ 1],\n",
      "       [23],\n",
      "       [14],\n",
      "       [16],\n",
      "       [24],\n",
      "       [32],\n",
      "       [17],\n",
      "       [18],\n",
      "       [22],\n",
      "       [33]])}\n"
     ]
    },
    {
     "data": {
      "application/vnd.jupyter.widget-view+json": {
       "model_id": "f636519908694de480d2e2e929b27de9"
      }
     },
     "metadata": {},
     "output_type": "display_data"
    },
    {
     "name": "stdout",
     "output_type": "stream",
     "text": [
      "\n",
      "{'epoch': 20, 'loss': 0.6346966, 'predf': array([[20],\n",
      "       [14],\n",
      "       [16],\n",
      "       [16],\n",
      "       [18],\n",
      "       [18],\n",
      "       [22],\n",
      "       [22],\n",
      "       [33],\n",
      "       [ 2]]), 'actual': array([[ 1],\n",
      "       [23],\n",
      "       [14],\n",
      "       [16],\n",
      "       [24],\n",
      "       [32],\n",
      "       [17],\n",
      "       [18],\n",
      "       [22],\n",
      "       [33]])}\n"
     ]
    },
    {
     "data": {
      "application/vnd.jupyter.widget-view+json": {
       "model_id": "3993407ed3c2493aad6826d800d60314"
      }
     },
     "metadata": {},
     "output_type": "display_data"
    },
    {
     "name": "stdout",
     "output_type": "stream",
     "text": [
      "\n",
      "{'epoch': 21, 'loss': 0.5842495, 'predf': array([[20],\n",
      "       [14],\n",
      "       [16],\n",
      "       [24],\n",
      "       [32],\n",
      "       [18],\n",
      "       [22],\n",
      "       [22],\n",
      "       [33],\n",
      "       [ 2]]), 'actual': array([[ 1],\n",
      "       [23],\n",
      "       [14],\n",
      "       [16],\n",
      "       [24],\n",
      "       [32],\n",
      "       [17],\n",
      "       [18],\n",
      "       [22],\n",
      "       [33]])}\n"
     ]
    },
    {
     "data": {
      "application/vnd.jupyter.widget-view+json": {
       "model_id": "8a92df5fbc8145039f63fdd1eec616fa"
      }
     },
     "metadata": {},
     "output_type": "display_data"
    },
    {
     "name": "stdout",
     "output_type": "stream",
     "text": [
      "\n",
      "{'epoch': 22, 'loss': 0.5817317, 'predf': array([[23],\n",
      "       [14],\n",
      "       [37],\n",
      "       [16],\n",
      "       [18],\n",
      "       [28],\n",
      "       [22],\n",
      "       [14],\n",
      "       [33],\n",
      "       [ 2]]), 'actual': array([[ 1],\n",
      "       [23],\n",
      "       [14],\n",
      "       [16],\n",
      "       [24],\n",
      "       [32],\n",
      "       [17],\n",
      "       [18],\n",
      "       [22],\n",
      "       [33]])}\n"
     ]
    },
    {
     "data": {
      "application/vnd.jupyter.widget-view+json": {
       "model_id": "98b18a752aad4b80abcbf61c544ae1c2"
      }
     },
     "metadata": {},
     "output_type": "display_data"
    },
    {
     "name": "stdout",
     "output_type": "stream",
     "text": [
      "\n",
      "{'epoch': 23, 'loss': 0.5661047, 'predf': array([[20],\n",
      "       [14],\n",
      "       [37],\n",
      "       [16],\n",
      "       [32],\n",
      "       [28],\n",
      "       [18],\n",
      "       [22],\n",
      "       [33],\n",
      "       [ 2]]), 'actual': array([[ 1],\n",
      "       [23],\n",
      "       [14],\n",
      "       [16],\n",
      "       [24],\n",
      "       [32],\n",
      "       [17],\n",
      "       [18],\n",
      "       [22],\n",
      "       [33]])}\n"
     ]
    },
    {
     "data": {
      "application/vnd.jupyter.widget-view+json": {
       "model_id": "df13639ae0cb46828f5333064a80b037"
      }
     },
     "metadata": {},
     "output_type": "display_data"
    },
    {
     "name": "stdout",
     "output_type": "stream",
     "text": [
      "\n",
      "{'epoch': 24, 'loss': 0.5490512, 'predf': array([[23],\n",
      "       [14],\n",
      "       [16],\n",
      "       [32],\n",
      "       [18],\n",
      "       [28],\n",
      "       [22],\n",
      "       [33],\n",
      "       [33],\n",
      "       [ 2]]), 'actual': array([[ 1],\n",
      "       [23],\n",
      "       [14],\n",
      "       [16],\n",
      "       [24],\n",
      "       [32],\n",
      "       [17],\n",
      "       [18],\n",
      "       [22],\n",
      "       [33]])}\n"
     ]
    },
    {
     "data": {
      "application/vnd.jupyter.widget-view+json": {
       "model_id": "068a0123a6db4cf7a4202d17e257266c"
      }
     },
     "metadata": {},
     "output_type": "display_data"
    },
    {
     "name": "stdout",
     "output_type": "stream",
     "text": [
      "\n",
      "{'epoch': 25, 'loss': 0.50459635, 'predf': array([[23],\n",
      "       [14],\n",
      "       [16],\n",
      "       [32],\n",
      "       [32],\n",
      "       [28],\n",
      "       [22],\n",
      "       [33],\n",
      "       [33],\n",
      "       [ 2]]), 'actual': array([[ 1],\n",
      "       [23],\n",
      "       [14],\n",
      "       [16],\n",
      "       [24],\n",
      "       [32],\n",
      "       [17],\n",
      "       [18],\n",
      "       [22],\n",
      "       [33]])}\n"
     ]
    },
    {
     "data": {
      "application/vnd.jupyter.widget-view+json": {
       "model_id": "30e3fda9a32147c0b64cd99e6c50cb0c"
      }
     },
     "metadata": {},
     "output_type": "display_data"
    },
    {
     "name": "stdout",
     "output_type": "stream",
     "text": [
      "\n",
      "{'epoch': 26, 'loss': 0.53965116, 'predf': array([[23],\n",
      "       [14],\n",
      "       [16],\n",
      "       [16],\n",
      "       [14],\n",
      "       [28],\n",
      "       [22],\n",
      "       [22],\n",
      "       [33],\n",
      "       [ 2]]), 'actual': array([[ 1],\n",
      "       [23],\n",
      "       [14],\n",
      "       [16],\n",
      "       [24],\n",
      "       [32],\n",
      "       [17],\n",
      "       [18],\n",
      "       [22],\n",
      "       [33]])}\n"
     ]
    },
    {
     "data": {
      "application/vnd.jupyter.widget-view+json": {
       "model_id": "d16de766501345c5bb248e20b4af3ee0"
      }
     },
     "metadata": {},
     "output_type": "display_data"
    },
    {
     "name": "stdout",
     "output_type": "stream",
     "text": [
      "\n",
      "{'epoch': 27, 'loss': 0.45744509, 'predf': array([[20],\n",
      "       [14],\n",
      "       [16],\n",
      "       [16],\n",
      "       [18],\n",
      "       [28],\n",
      "       [22],\n",
      "       [33],\n",
      "       [33],\n",
      "       [ 2]]), 'actual': array([[ 1],\n",
      "       [23],\n",
      "       [14],\n",
      "       [16],\n",
      "       [24],\n",
      "       [32],\n",
      "       [17],\n",
      "       [18],\n",
      "       [22],\n",
      "       [33]])}\n"
     ]
    },
    {
     "data": {
      "application/vnd.jupyter.widget-view+json": {
       "model_id": "07c3fddb2e554662943878130de05f17"
      }
     },
     "metadata": {},
     "output_type": "display_data"
    },
    {
     "name": "stdout",
     "output_type": "stream",
     "text": [
      "\n",
      "{'epoch': 28, 'loss': 0.49159238, 'predf': array([[23],\n",
      "       [14],\n",
      "       [16],\n",
      "       [24],\n",
      "       [32],\n",
      "       [18],\n",
      "       [22],\n",
      "       [14],\n",
      "       [33],\n",
      "       [ 2]]), 'actual': array([[ 1],\n",
      "       [23],\n",
      "       [14],\n",
      "       [16],\n",
      "       [24],\n",
      "       [32],\n",
      "       [17],\n",
      "       [18],\n",
      "       [22],\n",
      "       [33]])}\n"
     ]
    },
    {
     "data": {
      "application/vnd.jupyter.widget-view+json": {
       "model_id": "0504b41a1d5947f3ae87a3f258efcfb5"
      }
     },
     "metadata": {},
     "output_type": "display_data"
    },
    {
     "name": "stdout",
     "output_type": "stream",
     "text": [
      "\n",
      "{'epoch': 29, 'loss': 0.44137937, 'predf': array([[37],\n",
      "       [28],\n",
      "       [16],\n",
      "       [24],\n",
      "       [18],\n",
      "       [18],\n",
      "       [22],\n",
      "       [33],\n",
      "       [33],\n",
      "       [ 2]]), 'actual': array([[ 1],\n",
      "       [23],\n",
      "       [14],\n",
      "       [16],\n",
      "       [24],\n",
      "       [32],\n",
      "       [17],\n",
      "       [18],\n",
      "       [22],\n",
      "       [33]])}\n"
     ]
    },
    {
     "data": {
      "application/vnd.jupyter.widget-view+json": {
       "model_id": "52157af607b643d595ea277ace85eab4"
      }
     },
     "metadata": {},
     "output_type": "display_data"
    },
    {
     "name": "stdout",
     "output_type": "stream",
     "text": [
      "\n",
      "{'epoch': 30, 'loss': 0.45484316, 'predf': array([[23],\n",
      "       [14],\n",
      "       [16],\n",
      "       [24],\n",
      "       [32],\n",
      "       [28],\n",
      "       [22],\n",
      "       [33],\n",
      "       [33],\n",
      "       [ 2]]), 'actual': array([[ 1],\n",
      "       [23],\n",
      "       [14],\n",
      "       [16],\n",
      "       [24],\n",
      "       [32],\n",
      "       [17],\n",
      "       [18],\n",
      "       [22],\n",
      "       [33]])}\n"
     ]
    },
    {
     "data": {
      "application/vnd.jupyter.widget-view+json": {
       "model_id": "4e72200ea9384e25bf7990fcd6c2e533"
      }
     },
     "metadata": {},
     "output_type": "display_data"
    },
    {
     "name": "stdout",
     "output_type": "stream",
     "text": [
      "\n",
      "{'epoch': 31, 'loss': 0.45186582, 'predf': array([[23],\n",
      "       [14],\n",
      "       [16],\n",
      "       [24],\n",
      "       [18],\n",
      "       [16],\n",
      "       [22],\n",
      "       [22],\n",
      "       [ 2],\n",
      "       [18]]), 'actual': array([[ 1],\n",
      "       [23],\n",
      "       [14],\n",
      "       [16],\n",
      "       [24],\n",
      "       [32],\n",
      "       [17],\n",
      "       [18],\n",
      "       [22],\n",
      "       [33]])}\n"
     ]
    },
    {
     "data": {
      "application/vnd.jupyter.widget-view+json": {
       "model_id": "47e8d91bb8c1492b94bf10e9580d82e3"
      }
     },
     "metadata": {},
     "output_type": "display_data"
    },
    {
     "name": "stdout",
     "output_type": "stream",
     "text": [
      "\n",
      "{'epoch': 32, 'loss': 0.4191811, 'predf': array([[20],\n",
      "       [14],\n",
      "       [16],\n",
      "       [24],\n",
      "       [18],\n",
      "       [17],\n",
      "       [22],\n",
      "       [22],\n",
      "       [33],\n",
      "       [ 2]]), 'actual': array([[ 1],\n",
      "       [23],\n",
      "       [14],\n",
      "       [16],\n",
      "       [24],\n",
      "       [32],\n",
      "       [17],\n",
      "       [18],\n",
      "       [22],\n",
      "       [33]])}\n"
     ]
    },
    {
     "data": {
      "application/vnd.jupyter.widget-view+json": {
       "model_id": "c141258d5a144dc2bf9dd4fe95f98da1"
      }
     },
     "metadata": {},
     "output_type": "display_data"
    },
    {
     "name": "stdout",
     "output_type": "stream",
     "text": [
      "\n",
      "{'epoch': 33, 'loss': 0.43128055, 'predf': array([[23],\n",
      "       [14],\n",
      "       [16],\n",
      "       [24],\n",
      "       [32],\n",
      "       [18],\n",
      "       [22],\n",
      "       [38],\n",
      "       [33],\n",
      "       [ 2]]), 'actual': array([[ 1],\n",
      "       [23],\n",
      "       [14],\n",
      "       [16],\n",
      "       [24],\n",
      "       [32],\n",
      "       [17],\n",
      "       [18],\n",
      "       [22],\n",
      "       [33]])}\n"
     ]
    },
    {
     "data": {
      "application/vnd.jupyter.widget-view+json": {
       "model_id": "dba832890b264e70ad535b8386f4934d"
      }
     },
     "metadata": {},
     "output_type": "display_data"
    },
    {
     "name": "stdout",
     "output_type": "stream",
     "text": [
      "\n",
      "{'epoch': 34, 'loss': 0.42550662, 'predf': array([[23],\n",
      "       [14],\n",
      "       [16],\n",
      "       [32],\n",
      "       [32],\n",
      "       [14],\n",
      "       [18],\n",
      "       [22],\n",
      "       [33],\n",
      "       [ 2]]), 'actual': array([[ 1],\n",
      "       [23],\n",
      "       [14],\n",
      "       [16],\n",
      "       [24],\n",
      "       [32],\n",
      "       [17],\n",
      "       [18],\n",
      "       [22],\n",
      "       [33]])}\n"
     ]
    },
    {
     "data": {
      "application/vnd.jupyter.widget-view+json": {
       "model_id": "cd3e66c2bc4f486e809904f40fc91ab8"
      }
     },
     "metadata": {},
     "output_type": "display_data"
    },
    {
     "name": "stdout",
     "output_type": "stream",
     "text": [
      "\n",
      "{'epoch': 35, 'loss': 0.41741577, 'predf': array([[23],\n",
      "       [14],\n",
      "       [16],\n",
      "       [32],\n",
      "       [32],\n",
      "       [18],\n",
      "       [22],\n",
      "       [22],\n",
      "       [32],\n",
      "       [ 2]]), 'actual': array([[ 1],\n",
      "       [23],\n",
      "       [14],\n",
      "       [16],\n",
      "       [24],\n",
      "       [32],\n",
      "       [17],\n",
      "       [18],\n",
      "       [22],\n",
      "       [33]])}\n"
     ]
    },
    {
     "data": {
      "application/vnd.jupyter.widget-view+json": {
       "model_id": "78d4cce56ac64064a81e854df3f67874"
      }
     },
     "metadata": {},
     "output_type": "display_data"
    },
    {
     "name": "stdout",
     "output_type": "stream",
     "text": [
      "\n",
      "{'epoch': 36, 'loss': 0.40438482, 'predf': array([[23],\n",
      "       [14],\n",
      "       [16],\n",
      "       [24],\n",
      "       [32],\n",
      "       [18],\n",
      "       [18],\n",
      "       [33],\n",
      "       [33],\n",
      "       [ 2]]), 'actual': array([[ 1],\n",
      "       [23],\n",
      "       [14],\n",
      "       [16],\n",
      "       [24],\n",
      "       [32],\n",
      "       [17],\n",
      "       [18],\n",
      "       [22],\n",
      "       [33]])}\n"
     ]
    },
    {
     "data": {
      "application/vnd.jupyter.widget-view+json": {
       "model_id": "1625e8a15ff1464bacdb44e12d3f68cc"
      }
     },
     "metadata": {},
     "output_type": "display_data"
    },
    {
     "name": "stdout",
     "output_type": "stream",
     "text": [
      "\n",
      "{'epoch': 37, 'loss': 0.41283768, 'predf': array([[23],\n",
      "       [14],\n",
      "       [16],\n",
      "       [24],\n",
      "       [32],\n",
      "       [18],\n",
      "       [22],\n",
      "       [22],\n",
      "       [33],\n",
      "       [ 2]]), 'actual': array([[ 1],\n",
      "       [23],\n",
      "       [14],\n",
      "       [16],\n",
      "       [24],\n",
      "       [32],\n",
      "       [17],\n",
      "       [18],\n",
      "       [22],\n",
      "       [33]])}\n"
     ]
    },
    {
     "data": {
      "application/vnd.jupyter.widget-view+json": {
       "model_id": "379967f7908b47f3a65e7a6fd1f17053"
      }
     },
     "metadata": {},
     "output_type": "display_data"
    },
    {
     "name": "stdout",
     "output_type": "stream",
     "text": [
      "\n",
      "{'epoch': 38, 'loss': 0.38733408, 'predf': array([[23],\n",
      "       [14],\n",
      "       [37],\n",
      "       [32],\n",
      "       [32],\n",
      "       [18],\n",
      "       [22],\n",
      "       [38],\n",
      "       [33],\n",
      "       [ 2]]), 'actual': array([[ 1],\n",
      "       [23],\n",
      "       [14],\n",
      "       [16],\n",
      "       [24],\n",
      "       [32],\n",
      "       [17],\n",
      "       [18],\n",
      "       [22],\n",
      "       [33]])}\n"
     ]
    },
    {
     "data": {
      "application/vnd.jupyter.widget-view+json": {
       "model_id": "6b683ec8d17141688cee4857eadad5d5"
      }
     },
     "metadata": {},
     "output_type": "display_data"
    },
    {
     "name": "stdout",
     "output_type": "stream",
     "text": [
      "\n",
      "{'epoch': 39, 'loss': 0.40455973, 'predf': array([[20],\n",
      "       [28],\n",
      "       [16],\n",
      "       [32],\n",
      "       [32],\n",
      "       [14],\n",
      "       [18],\n",
      "       [38],\n",
      "       [32],\n",
      "       [ 2]]), 'actual': array([[ 1],\n",
      "       [23],\n",
      "       [14],\n",
      "       [16],\n",
      "       [24],\n",
      "       [32],\n",
      "       [17],\n",
      "       [18],\n",
      "       [22],\n",
      "       [33]])}\n"
     ]
    },
    {
     "data": {
      "application/vnd.jupyter.widget-view+json": {
       "model_id": "08acd67d8ddc4e5f860289eb7d5fec4a"
      }
     },
     "metadata": {},
     "output_type": "display_data"
    },
    {
     "name": "stdout",
     "output_type": "stream",
     "text": [
      "\n",
      "{'epoch': 40, 'loss': 0.3508088, 'predf': array([[23],\n",
      "       [14],\n",
      "       [16],\n",
      "       [24],\n",
      "       [32],\n",
      "       [14],\n",
      "       [22],\n",
      "       [22],\n",
      "       [33],\n",
      "       [ 2]]), 'actual': array([[ 1],\n",
      "       [23],\n",
      "       [14],\n",
      "       [16],\n",
      "       [24],\n",
      "       [32],\n",
      "       [17],\n",
      "       [18],\n",
      "       [22],\n",
      "       [33]])}\n"
     ]
    },
    {
     "data": {
      "application/vnd.jupyter.widget-view+json": {
       "model_id": "ce486e8b6c984d48b978893e13929db3"
      }
     },
     "metadata": {},
     "output_type": "display_data"
    },
    {
     "name": "stdout",
     "output_type": "stream",
     "text": [
      "\n",
      "{'epoch': 41, 'loss': 0.36122307, 'predf': array([[20],\n",
      "       [14],\n",
      "       [16],\n",
      "       [24],\n",
      "       [18],\n",
      "       [14],\n",
      "       [18],\n",
      "       [14],\n",
      "       [33],\n",
      "       [ 2]]), 'actual': array([[ 1],\n",
      "       [23],\n",
      "       [14],\n",
      "       [16],\n",
      "       [24],\n",
      "       [32],\n",
      "       [17],\n",
      "       [18],\n",
      "       [22],\n",
      "       [33]])}\n"
     ]
    },
    {
     "data": {
      "application/vnd.jupyter.widget-view+json": {
       "model_id": "114039bf995c4690b0c34baa86b8be96"
      }
     },
     "metadata": {},
     "output_type": "display_data"
    },
    {
     "name": "stdout",
     "output_type": "stream",
     "text": [
      "\n",
      "{'epoch': 42, 'loss': 0.37352178, 'predf': array([[20],\n",
      "       [28],\n",
      "       [16],\n",
      "       [24],\n",
      "       [32],\n",
      "       [18],\n",
      "       [22],\n",
      "       [22],\n",
      "       [33],\n",
      "       [ 2]]), 'actual': array([[ 1],\n",
      "       [23],\n",
      "       [14],\n",
      "       [16],\n",
      "       [24],\n",
      "       [32],\n",
      "       [17],\n",
      "       [18],\n",
      "       [22],\n",
      "       [33]])}\n"
     ]
    },
    {
     "data": {
      "application/vnd.jupyter.widget-view+json": {
       "model_id": "07e2184a4fc84530b834e85635535ffc"
      }
     },
     "metadata": {},
     "output_type": "display_data"
    },
    {
     "name": "stdout",
     "output_type": "stream",
     "text": [
      "\n",
      "{'epoch': 43, 'loss': 0.37040707, 'predf': array([[23],\n",
      "       [14],\n",
      "       [16],\n",
      "       [24],\n",
      "       [32],\n",
      "       [18],\n",
      "       [18],\n",
      "       [18],\n",
      "       [33],\n",
      "       [ 2]]), 'actual': array([[ 1],\n",
      "       [23],\n",
      "       [14],\n",
      "       [16],\n",
      "       [24],\n",
      "       [32],\n",
      "       [17],\n",
      "       [18],\n",
      "       [22],\n",
      "       [33]])}\n"
     ]
    },
    {
     "data": {
      "application/vnd.jupyter.widget-view+json": {
       "model_id": "1119bb9e73964e978c3ade6ea9e68478"
      }
     },
     "metadata": {},
     "output_type": "display_data"
    },
    {
     "name": "stdout",
     "output_type": "stream",
     "text": [
      "\n",
      "{'epoch': 44, 'loss': 0.327625, 'predf': array([[23],\n",
      "       [14],\n",
      "       [16],\n",
      "       [24],\n",
      "       [32],\n",
      "       [28],\n",
      "       [22],\n",
      "       [33],\n",
      "       [33],\n",
      "       [ 2]]), 'actual': array([[ 1],\n",
      "       [23],\n",
      "       [14],\n",
      "       [16],\n",
      "       [24],\n",
      "       [32],\n",
      "       [17],\n",
      "       [18],\n",
      "       [22],\n",
      "       [33]])}\n"
     ]
    },
    {
     "data": {
      "application/vnd.jupyter.widget-view+json": {
       "model_id": "a33f7e902e1048619f70520e3dca56ca"
      }
     },
     "metadata": {},
     "output_type": "display_data"
    },
    {
     "name": "stdout",
     "output_type": "stream",
     "text": [
      "\n",
      "{'epoch': 45, 'loss': 0.31222683, 'predf': array([[23],\n",
      "       [14],\n",
      "       [16],\n",
      "       [24],\n",
      "       [32],\n",
      "       [18],\n",
      "       [22],\n",
      "       [38],\n",
      "       [ 2],\n",
      "       [ 2]]), 'actual': array([[ 1],\n",
      "       [23],\n",
      "       [14],\n",
      "       [16],\n",
      "       [24],\n",
      "       [32],\n",
      "       [17],\n",
      "       [18],\n",
      "       [22],\n",
      "       [33]])}\n"
     ]
    },
    {
     "data": {
      "application/vnd.jupyter.widget-view+json": {
       "model_id": "ccee1e489bf44998ae99776c87b3e97e"
      }
     },
     "metadata": {},
     "output_type": "display_data"
    },
    {
     "name": "stdout",
     "output_type": "stream",
     "text": [
      "\n",
      "{'epoch': 46, 'loss': 0.34985253, 'predf': array([[23],\n",
      "       [14],\n",
      "       [16],\n",
      "       [24],\n",
      "       [32],\n",
      "       [18],\n",
      "       [18],\n",
      "       [18],\n",
      "       [33],\n",
      "       [ 2]]), 'actual': array([[ 1],\n",
      "       [23],\n",
      "       [14],\n",
      "       [16],\n",
      "       [24],\n",
      "       [32],\n",
      "       [17],\n",
      "       [18],\n",
      "       [22],\n",
      "       [33]])}\n"
     ]
    },
    {
     "data": {
      "application/vnd.jupyter.widget-view+json": {
       "model_id": "0aafcde25fa64fda8ec7d36d4330683d"
      }
     },
     "metadata": {},
     "output_type": "display_data"
    },
    {
     "name": "stdout",
     "output_type": "stream",
     "text": [
      "\n",
      "{'epoch': 47, 'loss': 0.32966763, 'predf': array([[23],\n",
      "       [28],\n",
      "       [16],\n",
      "       [24],\n",
      "       [32],\n",
      "       [18],\n",
      "       [18],\n",
      "       [14],\n",
      "       [ 2],\n",
      "       [ 2]]), 'actual': array([[ 1],\n",
      "       [23],\n",
      "       [14],\n",
      "       [16],\n",
      "       [24],\n",
      "       [32],\n",
      "       [17],\n",
      "       [18],\n",
      "       [22],\n",
      "       [33]])}\n"
     ]
    },
    {
     "data": {
      "application/vnd.jupyter.widget-view+json": {
       "model_id": "c6664e5044fa4816b2d145a981c25925"
      }
     },
     "metadata": {},
     "output_type": "display_data"
    },
    {
     "name": "stdout",
     "output_type": "stream",
     "text": [
      "\n",
      "{'epoch': 48, 'loss': 0.31126088, 'predf': array([[20],\n",
      "       [14],\n",
      "       [16],\n",
      "       [32],\n",
      "       [32],\n",
      "       [18],\n",
      "       [18],\n",
      "       [38],\n",
      "       [ 2],\n",
      "       [ 2]]), 'actual': array([[ 1],\n",
      "       [23],\n",
      "       [14],\n",
      "       [16],\n",
      "       [24],\n",
      "       [32],\n",
      "       [17],\n",
      "       [18],\n",
      "       [22],\n",
      "       [33]])}\n"
     ]
    },
    {
     "data": {
      "application/vnd.jupyter.widget-view+json": {
       "model_id": "407a4565eeff4ec497748a8386c95c30"
      }
     },
     "metadata": {},
     "output_type": "display_data"
    },
    {
     "name": "stdout",
     "output_type": "stream",
     "text": [
      "\n",
      "{'epoch': 49, 'loss': 0.32258323, 'predf': array([[23],\n",
      "       [14],\n",
      "       [16],\n",
      "       [24],\n",
      "       [18],\n",
      "       [17],\n",
      "       [18],\n",
      "       [18],\n",
      "       [33],\n",
      "       [ 2]]), 'actual': array([[ 1],\n",
      "       [23],\n",
      "       [14],\n",
      "       [16],\n",
      "       [24],\n",
      "       [32],\n",
      "       [17],\n",
      "       [18],\n",
      "       [22],\n",
      "       [33]])}\n"
     ]
    }
   ],
   "source": [
    "from tqdm import tqdm_notebook as tq\n",
    "batch_size = 100\n",
    "epoch = 50\n",
    "iteration = int(len(train_da)//batch_size)\n",
    "\n",
    "with tf.Session() as sess:\n",
    "    sess.run(tf.global_variables_initializer())\n",
    "    for i in range(epoch):\n",
    "        for j in tq(range(iteration)):\n",
    "            batch_d = get_train_batch(j,batch_size=35)\n",
    "            feed_dict = {encoder_input:batch_d['encoder_in'],\n",
    "                         decoder_input:batch_d['decoder_in'],\n",
    "                         decoder_target:batch_d['decoder_targ']}\n",
    "            trai,los = sess.run([train,loss],feed_dict)\n",
    "        batch_dr = get_train_batch(j,batch_size=1)\n",
    "        print({'epoch':i,'loss':los,\n",
    "                   'predf':sess.run(prediction,feed_dict = {encoder_input:batch_dr['encoder_in'],decoder_input:batch_dr['decoder_in']}),\n",
    "                   'actual': batch_dr['decoder_in']})"
   ]
  },
  {
   "cell_type": "code",
   "execution_count": null,
   "metadata": {
    "collapsed": true
   },
   "outputs": [],
   "source": []
  }
 ],
 "metadata": {
  "kernelspec": {
   "display_name": "Python 3",
   "language": "python",
   "name": "python3"
  },
  "language_info": {
   "codemirror_mode": {
    "name": "ipython",
    "version": 3
   },
   "file_extension": ".py",
   "mimetype": "text/x-python",
   "name": "python",
   "nbconvert_exporter": "python",
   "pygments_lexer": "ipython3",
   "version": "3.6.3"
  }
 },
 "nbformat": 4,
 "nbformat_minor": 2
}
