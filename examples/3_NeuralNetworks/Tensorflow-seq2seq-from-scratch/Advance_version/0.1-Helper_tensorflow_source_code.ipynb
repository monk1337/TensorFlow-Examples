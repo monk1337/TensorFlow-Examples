{
  "nbformat": 4,
  "nbformat_minor": 0,
  "metadata": {
    "colab": {
      "name": "Helper_tensorflow_source_code.ipynb",
      "version": "0.3.2",
      "views": {},
      "default_view": {},
      "provenance": []
    },
    "kernelspec": {
      "name": "python3",
      "display_name": "Python 3"
    }
  },
  "cells": [
    {
      "metadata": {
        "id": "STt3DY9Y7iol",
        "colab_type": "code",
        "colab": {
          "autoexec": {
            "startup": false,
            "wait_interval": 0
          }
        }
      },
      "cell_type": "code",
      "source": [
        "import tensorflow as tf\n",
        "import numpy as np\n",
        "from __future__ import absolute_import\n",
        "from __future__ import division\n",
        "from __future__ import print_function\n",
        "\n",
        "import abc\n",
        "\n",
        "import six\n",
        "\n",
        "from tensorflow.contrib.seq2seq.python.ops import decoder\n",
        "from tensorflow.python.framework import dtypes\n",
        "from tensorflow.python.framework import ops\n",
        "from tensorflow.python.framework import tensor_shape\n",
        "from tensorflow.python.ops import array_ops\n",
        "from tensorflow.python.ops import control_flow_ops\n",
        "from tensorflow.python.ops import embedding_ops\n",
        "from tensorflow.python.ops import gen_array_ops\n",
        "from tensorflow.python.ops import math_ops\n",
        "from tensorflow.python.ops import tensor_array_ops\n",
        "from tensorflow.python.ops.distributions import bernoulli\n",
        "from tensorflow.python.ops.distributions import categorical\n",
        "from tensorflow.python.util import nest\n",
        "_transpose_batch_time = decoder._transpose_batch_time"
      ],
      "execution_count": 0,
      "outputs": []
    },
    {
      "metadata": {
        "id": "ly0MtacD7jl_",
        "colab_type": "code",
        "colab": {
          "autoexec": {
            "startup": false,
            "wait_interval": 0
          }
        }
      },
      "cell_type": "code",
      "source": [
        "tf.reset_default_graph()\n",
        "input_data = np.random.randint(0,10,[2,5])\n",
        "sentence_length = [len(i) for i in input_data]\n",
        "input_place = tf.placeholder(name='inpu',dtype=tf.int32,shape=[2,5])  #batch_major input\n",
        "sequence_length_s= tf.placeholder(name='seq_len',dtype=tf.int32,shape=[None])\n",
        "custom_embedding = tf.get_variable(name='embedding',shape=[10,50],dtype=tf.float32,initializer=tf.random_uniform_initializer(-0.01,0.01))\n",
        "\n"
      ],
      "execution_count": 0,
      "outputs": []
    },
    {
      "metadata": {
        "id": "gzCQDqMB7ln7",
        "colab_type": "code",
        "colab": {
          "autoexec": {
            "startup": false,
            "wait_interval": 0
          }
        }
      },
      "cell_type": "code",
      "source": [
        "def _unstack_ta(inp):\n",
        "  return tensor_array_ops.TensorArray(\n",
        "      dtype=inp.dtype, size=array_ops.shape(inp)[0],\n",
        "      element_shape=inp.get_shape()[1:]).unstack(inp)\n",
        "\n",
        "\n",
        "\n",
        "class TrainingHelper():\n",
        "  \"\"\"A helper for use during training.  Only reads inputs.\n",
        "  Returned sample_ids are the argmax of the RNN output logits.\n",
        "  \"\"\"\n",
        "\n",
        "  def __init__(self, inputs, sequence_length, time_major=False, name=None):\n",
        "    \"\"\"Initializer.\n",
        "    Args:\n",
        "      inputs: A (structure of) input tensors.\n",
        "      sequence_length: An int32 vector tensor.\n",
        "      time_major: Python bool.  Whether the tensors in `inputs` are time major.\n",
        "        If `False` (default), they are assumed to be batch major.\n",
        "      name: Name scope for any created operations.\n",
        "    Raises:\n",
        "      ValueError: if `sequence_length` is not a 1D tensor.\n",
        "    \"\"\"\n",
        "    with ops.name_scope(name, \"TrainingHelper\", [inputs, sequence_length]):\n",
        "      \n",
        "      \n",
        "      \n",
        "      inputs = ops.convert_to_tensor(inputs, name=\"inputs\")\n",
        "      self._inputs = inputs\n",
        "      if not time_major:\n",
        "        inputs = nest.map_structure(_transpose_batch_time, inputs)\n",
        "        \n",
        "         \n",
        "\n",
        "      self._input_tas = nest.map_structure(_unstack_ta, inputs)\n",
        "       \n",
        "\n",
        "      self._sequence_length = ops.convert_to_tensor(\n",
        "          sequence_length, name=\"sequence_length\")\n",
        "      \n",
        "\n",
        "      if self._sequence_length.get_shape().ndims != 1:\n",
        "        raise ValueError(\n",
        "            \"Expected sequence_length to be a vector, but received shape: %s\" %\n",
        "            self._sequence_length.get_shape())\n",
        "\n",
        "      self._zero_inputs = nest.map_structure(\n",
        "          lambda inp: array_ops.zeros_like(inp[0, :]), inputs)\n",
        "\n",
        "      self._batch_size = array_ops.size(sequence_length)\n",
        "\n",
        "  @property\n",
        "  def inputs(self):\n",
        "    return self._inputs\n",
        "\n",
        "  @property\n",
        "  def sequence_length(self):\n",
        "    return self._sequence_length\n",
        "\n",
        "  @property\n",
        "  def batch_size(self):\n",
        "    return self._batch_size\n",
        "\n",
        "  @property\n",
        "  def sample_ids_shape(self):\n",
        "    return tensor_shape.TensorShape([])\n",
        "\n",
        "  @property\n",
        "  def sample_ids_dtype(self):\n",
        "    return dtypes.int32\n",
        "\n",
        "  def initialize(self, name=None):\n",
        "    with ops.name_scope(name, \"TrainingHelperInitialize\"):\n",
        "      finished = math_ops.equal(0, self._sequence_length)\n",
        "      print(\"dd\",finished)\n",
        "      all_finished = math_ops.reduce_all(finished)\n",
        "      next_inputs = control_flow_ops.cond(\n",
        "          all_finished, lambda: self._zero_inputs,\n",
        "          lambda: nest.map_structure(lambda inp: inp.read(0), self._input_tas))\n",
        "      return (finished, next_inputs)"
      ],
      "execution_count": 0,
      "outputs": []
    },
    {
      "metadata": {
        "id": "LByfECJ77n2v",
        "colab_type": "code",
        "colab": {
          "autoexec": {
            "startup": false,
            "wait_interval": 0
          },
          "base_uri": "https://localhost:8080/",
          "height": 34
        },
        "outputId": "ccf969ea-1ad3-43b0-d6c3-c7d3105d744f",
        "executionInfo": {
          "status": "ok",
          "timestamp": 1530534265727,
          "user_tz": -330,
          "elapsed": 1176,
          "user": {
            "displayName": "ayodhyankit paul",
            "photoUrl": "//lh3.googleusercontent.com/-aLSMOExWjxQ/AAAAAAAAAAI/AAAAAAAAAAc/yPMgEhPgnpk/s50-c-k-no/photo.jpg",
            "userId": "106815194044651409765"
          }
        }
      },
      "cell_type": "code",
      "source": [
        "embedd_input = tf.nn.embedding_lookup(custom_embedding,input_place)\n",
        "\n",
        "helper_fun = TrainingHelper(inputs=input_place,sequence_length=sequence_length_s,time_major=False)\n",
        "\n",
        "operation = tf.add(input_place,input_place)\n",
        "\n",
        "ok=helper_fun.initialize(name=None)\n",
        "\n"
      ],
      "execution_count": 17,
      "outputs": [
        {
          "output_type": "stream",
          "text": [
            "dd Tensor(\"TrainingHelperInitialize_4/Equal:0\", shape=(?,), dtype=bool)\n"
          ],
          "name": "stdout"
        }
      ]
    },
    {
      "metadata": {
        "id": "-9D1819o7pb_",
        "colab_type": "code",
        "colab": {
          "autoexec": {
            "startup": false,
            "wait_interval": 0
          },
          "base_uri": "https://localhost:8080/",
          "height": 34
        },
        "outputId": "fac42e74-7be4-44a5-c807-0569b5acfaa8",
        "executionInfo": {
          "status": "ok",
          "timestamp": 1530534295898,
          "user_tz": -330,
          "elapsed": 940,
          "user": {
            "displayName": "ayodhyankit paul",
            "photoUrl": "//lh3.googleusercontent.com/-aLSMOExWjxQ/AAAAAAAAAAI/AAAAAAAAAAc/yPMgEhPgnpk/s50-c-k-no/photo.jpg",
            "userId": "106815194044651409765"
          }
        }
      },
      "cell_type": "code",
      "source": [
        "with tf.Session() as sess:\n",
        "  sess.run(tf.global_variables_initializer())\n",
        "  result,b=sess.run([operation,ok],feed_dict={input_place:input_data,sequence_length_s:sentence_length})\n",
        "  print(b,embedd_input.shape)\n"
      ],
      "execution_count": 20,
      "outputs": [
        {
          "output_type": "stream",
          "text": [
            "(array([False, False]), array([7, 7], dtype=int32)) (2, 5, 50)\n"
          ],
          "name": "stdout"
        }
      ]
    },
    {
      "metadata": {
        "id": "AYAj8TXF7q7x",
        "colab_type": "code",
        "colab": {
          "autoexec": {
            "startup": false,
            "wait_interval": 0
          }
        }
      },
      "cell_type": "code",
      "source": [
        ""
      ],
      "execution_count": 0,
      "outputs": []
    }
  ]
}
