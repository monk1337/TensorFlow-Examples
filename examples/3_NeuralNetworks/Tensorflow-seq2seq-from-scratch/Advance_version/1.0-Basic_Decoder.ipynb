{
  "nbformat": 4,
  "nbformat_minor": 0,
  "metadata": {
    "colab": {
      "name": "Basic_Decoder.ipynb",
      "version": "0.3.2",
      "views": {},
      "default_view": {},
      "provenance": [],
      "collapsed_sections": []
    },
    "kernelspec": {
      "name": "python3",
      "display_name": "Python 3"
    }
  },
  "cells": [
    {
      "metadata": {
        "id": "i6uFW7fWeTDd",
        "colab_type": "code",
        "colab": {
          "autoexec": {
            "startup": false,
            "wait_interval": 0
          }
        }
      },
      "cell_type": "code",
      "source": [
        "#importing libraries\n",
        "\n",
        "import tensorflow as tf\n",
        "import numpy as np\n"
      ],
      "execution_count": 0,
      "outputs": []
    },
    {
      "metadata": {
        "id": "iUJYHCTreeci",
        "colab_type": "code",
        "colab": {
          "autoexec": {
            "startup": false,
            "wait_interval": 0
          }
        }
      },
      "cell_type": "code",
      "source": [
        "#first we need to define helper function and output layer\n",
        "#Basic decoder parameter are  : cell , Helper_function , initial_state , output_layer , let's define one by one\n",
        "\n",
        "#lstm cell\n",
        "cell = tf.contrib.rnn.LSTMCell(num_units=14)  #random num_units\n",
        "\n"
      ],
      "execution_count": 0,
      "outputs": []
    },
    {
      "metadata": {
        "id": "8objU6DIfcge",
        "colab_type": "code",
        "colab": {
          "autoexec": {
            "startup": false,
            "wait_interval": 0
          }
        }
      },
      "cell_type": "code",
      "source": [
        "#Helper_function\n",
        "\n",
        "#for helper function we need to define input and sequence_length\n",
        "\n",
        "batch_size       = 4\n",
        "max_time_steps   = 5\n",
        "dim              = 10\n",
        "\n",
        "input = np.random.randn(batch_size,max_time_steps,dim).astype(np.float32)\n",
        "sequence_length = [len(i) for i in input]\n",
        "\n",
        "Helper_function = tf.contrib.seq2seq.TrainingHelper(inputs=input,sequence_length=sequence_length,time_major=False)\n",
        "\n",
        "#For more about Helper function visit my previous Ipynb script\n",
        "#It will return initial input , Initiali_finished ( which tell which batch is unrolled and which is remain)\n"
      ],
      "execution_count": 0,
      "outputs": []
    },
    {
      "metadata": {
        "id": "FdX-WuGLfwJr",
        "colab_type": "code",
        "colab": {
          "autoexec": {
            "startup": false,
            "wait_interval": 0
          }
        }
      },
      "cell_type": "code",
      "source": [
        "#Initial_state\n",
        "\n",
        "#initial_state is first state of rnn\n",
        "\n",
        "initial_state = cell.zero_state(batch_size=batch_size,dtype=tf.float32)\n",
        "\n",
        "\n",
        "\n"
      ],
      "execution_count": 0,
      "outputs": []
    },
    {
      "metadata": {
        "id": "L5r043wdh5FS",
        "colab_type": "code",
        "colab": {
          "autoexec": {
            "startup": false,
            "wait_interval": 0
          }
        }
      },
      "cell_type": "code",
      "source": [
        "#Output layer\n",
        "#output layer is projection layer , Dense layer without activation\n",
        "\n",
        "output_layer = tf.layers.Dense(34)\n",
        "\n",
        "#it will return  hidden_outout x output_layer_dim   == > nx34 shape matrix\n",
        "\n"
      ],
      "execution_count": 0,
      "outputs": []
    },
    {
      "metadata": {
        "id": "0mDF25aoiNs7",
        "colab_type": "code",
        "colab": {
          "autoexec": {
            "startup": false,
            "wait_interval": 0
          },
          "base_uri": "https://localhost:8080/",
          "height": 87
        },
        "outputId": "e57d7b14-60d1-4bb9-c4c5-8f2be13be429",
        "executionInfo": {
          "status": "ok",
          "timestamp": 1530612180771,
          "user_tz": -330,
          "elapsed": 1194,
          "user": {
            "displayName": "ayodhyankit paul",
            "photoUrl": "//lh3.googleusercontent.com/-aLSMOExWjxQ/AAAAAAAAAAI/AAAAAAAAAAc/yPMgEhPgnpk/s50-c-k-no/photo.jpg",
            "userId": "106815194044651409765"
          }
        }
      },
      "cell_type": "code",
      "source": [
        "#finally we can define decoder\n",
        "\n",
        "Basic_decoder = tf.contrib.seq2seq.BasicDecoder(cell,Helper_function,initial_state,output_layer)\n",
        "\n",
        "\n",
        "#let's initialize the decoder\n",
        "\n",
        "decoder_output = Basic_decoder.initialize()\n",
        "\n",
        "initial_finished, initial_input , initial_state = decoder_output\n",
        "\n",
        "#it will return initial_finished, , Initial_input, Initial_state \n",
        "\n",
        "#initial_finished  ===>  Batch_size\n",
        "\n",
        "#initial_input     ===>  Batch_size x dim\n",
        "#initial_state     ===>  Batch_size x lstm_hidden_units\n",
        "\n",
        "\n",
        "#Lstm tuple contain c and h which represent cell output ( memory)  and hidden_output of state\n",
        "\n",
        "print(initial_finished)\n",
        "print(initial_input)\n",
        "print(initial_state)"
      ],
      "execution_count": 50,
      "outputs": [
        {
          "output_type": "stream",
          "text": [
            "Tensor(\"TrainingHelperInitialize_7/Equal:0\", shape=(4,), dtype=bool)\n",
            "Tensor(\"TrainingHelperInitialize_7/cond/Merge:0\", shape=(4, 10), dtype=float32)\n",
            "LSTMStateTuple(c=<tf.Tensor 'LSTMCellZeroState_1/zeros:0' shape=(4, 14) dtype=float32>, h=<tf.Tensor 'LSTMCellZeroState_1/zeros_1:0' shape=(4, 14) dtype=float32>)\n"
          ],
          "name": "stdout"
        }
      ]
    },
    {
      "metadata": {
        "id": "rFQtGzxuicmD",
        "colab_type": "code",
        "colab": {
          "autoexec": {
            "startup": false,
            "wait_interval": 0
          }
        }
      },
      "cell_type": "code",
      "source": [
        ""
      ],
      "execution_count": 0,
      "outputs": []
    },
    {
      "metadata": {
        "id": "ZICrIInwis3N",
        "colab_type": "code",
        "colab": {
          "autoexec": {
            "startup": false,
            "wait_interval": 0
          }
        }
      },
      "cell_type": "code",
      "source": [
        "#Let's unroll it single step\n",
        "unrol_step = Basic_decoder.step(tf.constant(5),initial_input,initial_state)\n",
        "\n",
        "#it will return step_output , step_state , next_input, step_finished"
      ],
      "execution_count": 0,
      "outputs": []
    },
    {
      "metadata": {
        "id": "6Jks5jbuk0v0",
        "colab_type": "code",
        "colab": {
          "autoexec": {
            "startup": false,
            "wait_interval": 0
          },
          "base_uri": "https://localhost:8080/",
          "height": 978
        },
        "outputId": "b6a7704d-4117-455c-9c64-b57d4e6abcf2",
        "executionInfo": {
          "status": "ok",
          "timestamp": 1530612134787,
          "user_tz": -330,
          "elapsed": 1169,
          "user": {
            "displayName": "ayodhyankit paul",
            "photoUrl": "//lh3.googleusercontent.com/-aLSMOExWjxQ/AAAAAAAAAAI/AAAAAAAAAAc/yPMgEhPgnpk/s50-c-k-no/photo.jpg",
            "userId": "106815194044651409765"
          }
        }
      },
      "cell_type": "code",
      "source": [
        "with tf.Session() as sess:\n",
        "  sess.run(tf.global_variables_initializer())\n",
        "  print(sess.run(unrol_step))\n",
        "  \n",
        "  \n",
        "  #sample id is argmax over rnn output\n",
        "  "
      ],
      "execution_count": 49,
      "outputs": [
        {
          "output_type": "stream",
          "text": [
            "(BasicDecoderOutput(rnn_output=array([[ 0.0759747 , -0.00226699,  0.0538846 , -0.00818962, -0.0916556 ,\n",
            "         0.00324647, -0.01869969,  0.03561167, -0.08985893,  0.00976134,\n",
            "        -0.04943999,  0.04374067, -0.05351716, -0.03608409, -0.06310583,\n",
            "        -0.0437636 ,  0.05202391,  0.00168097,  0.04176883,  0.0351845 ,\n",
            "         0.03825033,  0.05370342,  0.03859018,  0.00066754,  0.01302652,\n",
            "        -0.03566777,  0.01868572, -0.14043932, -0.091998  , -0.06005162,\n",
            "        -0.00960995, -0.05388117,  0.01288043,  0.01100375],\n",
            "       [-0.02676135,  0.00938944,  0.0007689 , -0.0644469 ,  0.08935168,\n",
            "        -0.04154469, -0.02976009,  0.00087872, -0.03507683,  0.00601103,\n",
            "        -0.07527467, -0.00991953,  0.06364264,  0.07502954, -0.07530338,\n",
            "        -0.01975457,  0.05769436,  0.0989968 ,  0.01918138, -0.03942095,\n",
            "         0.02238176,  0.02028129, -0.04245231, -0.07315166, -0.0618231 ,\n",
            "        -0.01573671, -0.03153561, -0.04899438,  0.06407975, -0.02867257,\n",
            "         0.0624159 , -0.07846972, -0.03803579, -0.08545092],\n",
            "       [-0.06739049,  0.10571536, -0.08422599, -0.08265711, -0.00757415,\n",
            "         0.01321963,  0.00319124, -0.15265694,  0.07452684,  0.05094908,\n",
            "        -0.04384595,  0.04472456, -0.12695506, -0.10198754,  0.01772726,\n",
            "         0.10453869, -0.0173778 ,  0.02263844,  0.05175861, -0.11016576,\n",
            "         0.02116711, -0.05542922, -0.08186341, -0.06523639, -0.03608825,\n",
            "         0.04917186,  0.04537832,  0.0796505 ,  0.09715029,  0.1121499 ,\n",
            "         0.10554131,  0.14412528, -0.01242661, -0.00561762],\n",
            "       [-0.01538635,  0.10923447,  0.00493582,  0.08756028, -0.11823752,\n",
            "         0.09940012,  0.00856964, -0.10398771, -0.0690705 , -0.07058155,\n",
            "        -0.01903388, -0.02061147, -0.13179834,  0.00639171, -0.04860068,\n",
            "         0.02172983,  0.05959974,  0.02602508,  0.11024275,  0.05353306,\n",
            "         0.04912938,  0.0156028 , -0.03457209,  0.05041235, -0.04454508,\n",
            "        -0.1371805 , -0.0076907 , -0.08261026, -0.05185527,  0.08669762,\n",
            "         0.06342921, -0.00178965, -0.06252722,  0.0734577 ]],\n",
            "      dtype=float32), sample_id=array([ 0, 17, 31, 18], dtype=int32)), LSTMStateTuple(c=array([[ 0.39973792, -0.27213693,  0.15964778,  0.1447096 ,  0.04611398,\n",
            "        -0.05138923,  0.06823828,  0.1224053 ,  0.05594273,  0.04093867,\n",
            "        -0.04252442, -0.17778432, -0.02012395, -0.06270744],\n",
            "       [ 0.20713024,  0.3064877 ,  0.06844049,  0.05491653, -0.06654781,\n",
            "        -0.09980559, -0.04234935,  0.36727837, -0.06266746, -0.07741381,\n",
            "         0.07479495,  0.08330036, -0.02157798,  0.0199436 ],\n",
            "       [ 0.11804744,  0.3013622 , -0.17850858, -0.07919744, -0.10915594,\n",
            "        -0.25856557,  0.20056443, -0.2187817 ,  0.06956597, -0.15383506,\n",
            "         0.09582373,  0.33730227,  0.06440043, -0.11774708],\n",
            "       [ 0.3264744 ,  0.02791863,  0.03762201,  0.02712948, -0.03210226,\n",
            "         0.13079901,  0.33558044, -0.02774252, -0.080819  ,  0.05099149,\n",
            "         0.26102638, -0.17730676,  0.1332556 , -0.31742957]],\n",
            "      dtype=float32), h=array([[ 0.18221807, -0.12149421,  0.06594247,  0.05344163,  0.02298892,\n",
            "        -0.03267389,  0.02287505,  0.05609104,  0.02362136,  0.02010508,\n",
            "        -0.01610041, -0.09433857, -0.00901579, -0.03810861],\n",
            "       [ 0.08638033,  0.12230815,  0.02734309,  0.02961953, -0.04321592,\n",
            "        -0.05397466, -0.02290381,  0.21321337, -0.03205477, -0.0349375 ,\n",
            "         0.02776662,  0.05207432, -0.0116189 ,  0.01256783],\n",
            "       [ 0.03368521,  0.15730844, -0.06489006, -0.04866723, -0.06590833,\n",
            "        -0.08332006,  0.15171285, -0.12562865,  0.02329844, -0.0687228 ,\n",
            "         0.06469399,  0.18442373,  0.02941286, -0.0413456 ],\n",
            "       [ 0.13764784,  0.01304948,  0.01219158,  0.01277271, -0.01450257,\n",
            "         0.06383467,  0.11455828, -0.01195447, -0.04173356,  0.01577681,\n",
            "         0.10972543, -0.07571086,  0.05165102, -0.18138993]],\n",
            "      dtype=float32)), array([[0., 0., 0., 0., 0., 0., 0., 0., 0., 0.],\n",
            "       [0., 0., 0., 0., 0., 0., 0., 0., 0., 0.],\n",
            "       [0., 0., 0., 0., 0., 0., 0., 0., 0., 0.],\n",
            "       [0., 0., 0., 0., 0., 0., 0., 0., 0., 0.]], dtype=float32), array([ True,  True,  True,  True]))\n"
          ],
          "name": "stdout"
        }
      ]
    },
    {
      "metadata": {
        "id": "tvMJ-h-pk5ah",
        "colab_type": "code",
        "colab": {
          "autoexec": {
            "startup": false,
            "wait_interval": 0
          }
        }
      },
      "cell_type": "code",
      "source": [
        ""
      ],
      "execution_count": 0,
      "outputs": []
    }
  ]
}
