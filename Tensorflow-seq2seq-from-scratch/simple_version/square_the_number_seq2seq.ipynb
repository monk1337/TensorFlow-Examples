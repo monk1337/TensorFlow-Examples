{
 "cells": [
  {
   "cell_type": "code",
   "execution_count": 11,
   "metadata": {
    "ExecuteTime": {
     "end_time": "2018-06-30T18:50:13.788603Z",
     "start_time": "2018-06-30T18:50:13.783803Z"
    },
    "collapsed": false
   },
   "outputs": [],
   "source": [
    "#importing libraries\n",
    "#reference : https://arxiv.org/pdf/1409.3215.pdf\n",
    "#probem statement is  given a sequence [2,3,4,5,6]  seq_2seq will learn and do square of each number [4,9,16,25,36]\n",
    "\n",
    "import tensorflow as tf\n",
    "from tensorflow.contrib import rnn\n",
    "import numpy as np\n",
    "\n",
    "tf.reset_default_graph()\n",
    "\n"
   ]
  },
  {
   "cell_type": "code",
   "execution_count": 12,
   "metadata": {
    "ExecuteTime": {
     "end_time": "2018-06-30T18:50:14.827080Z",
     "start_time": "2018-06-30T18:50:14.817786Z"
    },
    "collapsed": true
   },
   "outputs": [],
   "source": [
    "#some hyper parameters\n",
    "\n",
    "encoder_vocab_size = 100  # suppose our encoding data vocab size is 100 \n",
    "decoder_vocab_size = 150  # and decoding data vocab size is 150\n",
    "\n",
    "batch_size=10\n",
    "\n",
    "encoder_hidden_unit = 100\n",
    "decoder_hidden_unit = 100\n",
    "\n",
    "encoder_embedding_dim=50\n",
    "decoder_embedding_dim=50\n"
   ]
  },
  {
   "cell_type": "code",
   "execution_count": 13,
   "metadata": {
    "ExecuteTime": {
     "end_time": "2018-06-30T18:50:15.926532Z",
     "start_time": "2018-06-30T18:50:15.913006Z"
    },
    "collapsed": false
   },
   "outputs": [
    {
     "name": "stdout",
     "output_type": "stream",
     "text": [
      "Tensor(\"encoder_input:0\", shape=(?, ?), dtype=int32)\n"
     ]
    }
   ],
   "source": [
    "#inputs :  encoder_input , decoder_input , decoder_target\n",
    "\n",
    "\n",
    "encoder_input = tf.placeholder(name='encoder_input',shape=[None,None],dtype=tf.int32)\n",
    "decoder_input = tf.placeholder(name='decoder_input',shape=[None,None],dtype=tf.int32)\n",
    "decoder_target= tf.placeholder(name='decoder_target',shape=[None,None],dtype=tf.int32)\n",
    "\n",
    "#ecoder input should be  [Max_time,batch]  time major  \n",
    "#decoder input should be [Max_time,batch]  time major\n",
    "#decoder_target should be [Max_time,batch] time major\n",
    "print(encoder_input)"
   ]
  },
  {
   "cell_type": "code",
   "execution_count": 14,
   "metadata": {
    "ExecuteTime": {
     "end_time": "2018-06-30T18:50:17.108003Z",
     "start_time": "2018-06-30T18:50:17.077151Z"
    },
    "collapsed": false
   },
   "outputs": [
    {
     "name": "stdout",
     "output_type": "stream",
     "text": [
      "Tensor(\"embedding_lookup:0\", shape=(?, ?, 50), dtype=float32)\n"
     ]
    }
   ],
   "source": [
    "#embedding for encoder , decoder\n",
    "\n",
    "\n",
    "\n",
    "#use tf.get_variable instead of tf.Variable\n",
    "encoder_embedding = tf.get_variable(name='encoder_embedding',\n",
    "                                    shape=[encoder_vocab_size,encoder_embedding_dim],\n",
    "                                    dtype=tf.float32,\n",
    "                                    initializer=tf.random_uniform_initializer(-0.01,0.01))\n",
    "\n",
    "decoder_embedding = tf.get_variable(name='decoder_embedding',\n",
    "                                    shape=[decoder_vocab_size,decoder_embedding_dim],\n",
    "                                    dtype=tf.float32,\n",
    "                                    initializer=tf.random_uniform_initializer(-0.01,0.01))\n",
    "\n",
    "embedd_encoder = tf.nn.embedding_lookup(encoder_embedding,encoder_input)\n",
    "#now encoder input will become [ max_time , batch_size , embedding_dim ]\n",
    "\n",
    "embedd_decoder = tf.nn.embedding_lookup(decoder_embedding,decoder_input)\n",
    "#now decoder input will become [ max_time , batch_size , embedding_dim ]\n",
    "\n",
    "print(embedd_encoder)"
   ]
  },
  {
   "cell_type": "code",
   "execution_count": 15,
   "metadata": {
    "ExecuteTime": {
     "end_time": "2018-06-30T18:50:19.211425Z",
     "start_time": "2018-06-30T18:50:19.205812Z"
    },
    "collapsed": true
   },
   "outputs": [],
   "source": [
    "#cell for rnn\n",
    "\n",
    "encoder_cell = rnn.LSTMCell(num_units=encoder_hidden_unit)\n",
    "decoder_cell = rnn.LSTMCell(num_units=decoder_hidden_unit)"
   ]
  },
  {
   "cell_type": "code",
   "execution_count": 16,
   "metadata": {
    "ExecuteTime": {
     "end_time": "2018-06-30T18:50:20.406582Z",
     "start_time": "2018-06-30T18:50:20.266266Z"
    },
    "collapsed": false
   },
   "outputs": [],
   "source": [
    "#encoder\n",
    "\n",
    "encoder_model, encoder_last_state = tf.nn.dynamic_rnn(cell=encoder_cell,\n",
    "                                                      inputs=embedd_encoder,\n",
    "                                                      time_major=True,\n",
    "                                                      dtype=tf.float32)"
   ]
  },
  {
   "cell_type": "code",
   "execution_count": 17,
   "metadata": {
    "ExecuteTime": {
     "end_time": "2018-06-30T18:50:22.149576Z",
     "start_time": "2018-06-30T18:50:22.021865Z"
    },
    "collapsed": true
   },
   "outputs": [],
   "source": [
    "#decoder \n",
    "decoder_output,decoder_last_state= tf.nn.dynamic_rnn(cell=decoder_cell,\n",
    "                                                     inputs=embedd_decoder,\n",
    "                                                     time_major=True,\n",
    "                                                     initial_state=encoder_last_state,\n",
    "                                                     dtype=tf.float32,\n",
    "                                                     scope='decoder_inputs')\n"
   ]
  },
  {
   "cell_type": "code",
   "execution_count": 18,
   "metadata": {
    "ExecuteTime": {
     "end_time": "2018-06-30T18:50:23.328495Z",
     "start_time": "2018-06-30T18:50:23.250940Z"
    },
    "collapsed": true
   },
   "outputs": [],
   "source": [
    "#projection layer without activation\n",
    "\n",
    "linear_projection = tf.contrib.layers.fully_connected(decoder_output,decoder_vocab_size)\n",
    "\n",
    "\n",
    "#taking max argument\n",
    "prediction = tf.argmax(linear_projection,2)\n"
   ]
  },
  {
   "cell_type": "code",
   "execution_count": 19,
   "metadata": {
    "ExecuteTime": {
     "end_time": "2018-06-30T18:50:25.414696Z",
     "start_time": "2018-06-30T18:50:25.366434Z"
    },
    "collapsed": false
   },
   "outputs": [],
   "source": [
    "cross_entropy = tf.nn.softmax_cross_entropy_with_logits(labels=tf.one_hot(decoder_target,\n",
    "                                                     depth=decoder_vocab_size,dtype=tf.float32),\n",
    "                                                     logits=linear_projection)\n",
    "\n",
    "#reduce_mean\n",
    "loss=tf.reduce_mean(cross_entropy)\n",
    "\n",
    "#our aim is to minimize this loss\n"
   ]
  },
  {
   "cell_type": "code",
   "execution_count": 20,
   "metadata": {
    "ExecuteTime": {
     "end_time": "2018-06-30T18:50:28.061567Z",
     "start_time": "2018-06-30T18:50:27.385508Z"
    },
    "collapsed": true
   },
   "outputs": [],
   "source": [
    "train = tf.train.AdamOptimizer().minimize(loss)"
   ]
  },
  {
   "cell_type": "code",
   "execution_count": 21,
   "metadata": {
    "collapsed": false
   },
   "outputs": [],
   "source": [
    "data=np.load('data_to_be_train.npy')\n",
    "\n",
    "train_data_int=int(len(data)*0.80)\n",
    "\n",
    "train_data = data[:train_data_int]\n",
    "test_data  = data[train_data_int:]\n"
   ]
  },
  {
   "cell_type": "code",
   "execution_count": 22,
   "metadata": {
    "collapsed": false
   },
   "outputs": [],
   "source": [
    "PAD=0\n",
    "EOS=1\n",
    "def get_train_batch(value):\n",
    "    train_data_ = train_data[value]\n",
    "    max_len = max([len(i) for i in train_data_])\n",
    "#     print(max_len)\n",
    "    pad_data=[i+[0]*(max_len-len(i)) for i in train_data_ if len(i)<max_len]\n",
    "    \n",
    "    encoder_inpu   = pad_data\n",
    "    decoder_inpu   = [[EOS] + [j*j for j in i ] for i in pad_data]\n",
    "    decoder_target = [[j*j for j in i] +[EOS] + [0]*(max_len-len(i)) for i in train_data_ if len(i)<max_len]\n",
    "    \n",
    "\n",
    "    \n",
    "\n",
    "    \n",
    "    return {'encoder':np.transpose(np.array(encoder_inpu),[1,0]),\n",
    "            'decoder_':np.transpose(np.array(decoder_inpu),[1,0]),\n",
    "            'decoder_tar':np.transpose(np.array(decoder_target),[1,0])}\n",
    "\n",
    "    \n",
    "    \n",
    "    \n",
    "    \n",
    "    \n",
    "    "
   ]
  },
  {
   "cell_type": "code",
   "execution_count": 23,
   "metadata": {
    "collapsed": false
   },
   "outputs": [
    {
     "data": {
      "application/vnd.jupyter.widget-view+json": {
       "model_id": "e911c40485224a6d94c590f34790c818"
      }
     },
     "metadata": {},
     "output_type": "display_data"
    },
    {
     "name": "stdout",
     "output_type": "stream",
     "text": [
      "\n",
      "batch 0\n",
      "  minibatch loss: 1.759526014328003\n",
      "    input     > [[4 6 2 6 6 7 8 5 2]\n",
      " [6 6 8 6 3 8 9 3 3]\n",
      " [3 9 2 8 9 3 9 6 2]\n",
      " [0 2 8 9 5 8 0 2 4]\n",
      " [0 6 4 4 3 9 0 0 0]\n",
      " [0 0 0 7 2 9 0 0 0]\n",
      " [0 0 0 8 2 2 0 0 0]\n",
      " [0 0 0 0 3 0 0 0 0]\n",
      " [0 0 0 0 0 0 0 0 0]]\n",
      "    predicted > [[16 16 16 16  9 49 16 16  9]\n",
      " [16 16 16 16 49 49 16 16 49]\n",
      " [ 4 16 16 16 49 49  4 16 49]\n",
      " [ 1 16 16 16 49 49  1  4 49]\n",
      " [ 0  4  4 16 49 49  0  1  1]\n",
      " [ 0  1  1 81 49 49  0  0  0]\n",
      " [ 0  0  0  4 49 49  0  0  0]\n",
      " [ 0  0  0  1  4  1  0  0  0]\n",
      " [ 0  0  0  0  1  0  0  0  0]\n",
      " [ 0  0  0  0  0  0  0  0  0]]\n"
     ]
    },
    {
     "data": {
      "application/vnd.jupyter.widget-view+json": {
       "model_id": "7b89b57f743e42419e1f1e69972fd200"
      }
     },
     "metadata": {},
     "output_type": "display_data"
    },
    {
     "name": "stdout",
     "output_type": "stream",
     "text": [
      "\n",
      "batch 1\n",
      "  minibatch loss: 0.5196203589439392\n",
      "    input     > [[4 6 2 6 6 7 8 5 2]\n",
      " [6 6 8 6 3 8 9 3 3]\n",
      " [3 9 2 8 9 3 9 6 2]\n",
      " [0 2 8 9 5 8 0 2 4]\n",
      " [0 6 4 4 3 9 0 0 0]\n",
      " [0 0 0 7 2 9 0 0 0]\n",
      " [0 0 0 8 2 2 0 0 0]\n",
      " [0 0 0 0 3 0 0 0 0]\n",
      " [0 0 0 0 0 0 0 0 0]]\n",
      "    predicted > [[16 36  4 36 36 49 25 36 81]\n",
      " [36 36 36 36  9 36 81  9 81]\n",
      " [49 81  4 16 16  9 81 36  4]\n",
      " [ 1 81 64 81 25  4  1 81 16]\n",
      " [ 0 36 16 16  9 81  0  1  1]\n",
      " [ 0  1  1  4 81 81  0  0  0]\n",
      " [ 0  0  0 16 81  4  0  0  0]\n",
      " [ 0  0  0  1 49  1  0  0  0]\n",
      " [ 0  0  0  0  1  0  0  0  0]\n",
      " [ 0  0  0  0  0  0  0  0  0]]\n"
     ]
    },
    {
     "data": {
      "application/vnd.jupyter.widget-view+json": {
       "model_id": "6673b84905d34bcda7957f4b687f4492"
      }
     },
     "metadata": {},
     "output_type": "display_data"
    },
    {
     "name": "stdout",
     "output_type": "stream",
     "text": [
      "\n",
      "batch 2\n",
      "  minibatch loss: 0.269411563873291\n",
      "    input     > [[4 6 2 6 6 7 8 5 2]\n",
      " [6 6 8 6 3 8 9 3 3]\n",
      " [3 9 2 8 9 3 9 6 2]\n",
      " [0 2 8 9 5 8 0 2 4]\n",
      " [0 6 4 4 3 9 0 0 0]\n",
      " [0 0 0 7 2 9 0 0 0]\n",
      " [0 0 0 8 2 2 0 0 0]\n",
      " [0 0 0 0 3 0 0 0 0]\n",
      " [0 0 0 0 0 0 0 0 0]]\n",
      "    predicted > [[16 36  4 36 36 49 25 25  4]\n",
      " [36 36 25 36  9 25 81  9  9]\n",
      " [ 9 81  4 16  4 49 81 36  4]\n",
      " [ 1  4 64 81 25 25  1  4 16]\n",
      " [ 0 36 16 16  9  4  0  1  1]\n",
      " [ 0  1  1 49  4  4  0  0  0]\n",
      " [ 0  0  0 64  9 64  0  0  0]\n",
      " [ 0  0  0  1  9  1  0  0  0]\n",
      " [ 0  0  0  0  1  0  0  0  0]\n",
      " [ 0  0  0  0  0  0  0  0  0]]\n"
     ]
    },
    {
     "data": {
      "application/vnd.jupyter.widget-view+json": {
       "model_id": "913c9c27012d44aa821489d36337ccbc"
      }
     },
     "metadata": {},
     "output_type": "display_data"
    },
    {
     "name": "stdout",
     "output_type": "stream",
     "text": [
      "\n",
      "batch 3\n",
      "  minibatch loss: 0.1046612560749054\n",
      "    input     > [[4 6 2 6 6 7 8 5 2]\n",
      " [6 6 8 6 3 8 9 3 3]\n",
      " [3 9 2 8 9 3 9 6 2]\n",
      " [0 2 8 9 5 8 0 2 4]\n",
      " [0 6 4 4 3 9 0 0 0]\n",
      " [0 0 0 7 2 9 0 0 0]\n",
      " [0 0 0 8 2 2 0 0 0]\n",
      " [0 0 0 0 3 0 0 0 0]\n",
      " [0 0 0 0 0 0 0 0 0]]\n",
      "    predicted > [[16 36  4 36 36 49 64 25  4]\n",
      " [36 36 64 36  9 64 81  9  9]\n",
      " [ 9 81  4 64 81  9 81 36  4]\n",
      " [ 1  4 64 81 25 64  1  4 16]\n",
      " [ 0 36 16 16  9 81  0  1  1]\n",
      " [ 0  1  1 49  4 81  0  0  0]\n",
      " [ 0  0  0 64  9  4  0  0  0]\n",
      " [ 0  0  0  1  9  1  0  0  0]\n",
      " [ 0  0  0  0  1  0  0  0  0]\n",
      " [ 0  0  0  0  0  0  0  0  0]]\n"
     ]
    },
    {
     "data": {
      "application/vnd.jupyter.widget-view+json": {
       "model_id": "ecd008888d514e8b9b02c340da693554"
      }
     },
     "metadata": {},
     "output_type": "display_data"
    },
    {
     "name": "stdout",
     "output_type": "stream",
     "text": [
      "\n",
      "batch 4\n",
      "  minibatch loss: 0.030690694227814674\n",
      "    input     > [[4 6 2 6 6 7 8 5 2]\n",
      " [6 6 8 6 3 8 9 3 3]\n",
      " [3 9 2 8 9 3 9 6 2]\n",
      " [0 2 8 9 5 8 0 2 4]\n",
      " [0 6 4 4 3 9 0 0 0]\n",
      " [0 0 0 7 2 9 0 0 0]\n",
      " [0 0 0 8 2 2 0 0 0]\n",
      " [0 0 0 0 3 0 0 0 0]\n",
      " [0 0 0 0 0 0 0 0 0]]\n",
      "    predicted > [[16 36  4 36 36 49 64 25  4]\n",
      " [36 36 64 36  9 64 81  9  9]\n",
      " [ 9 81  4 64 81  9 81 36  4]\n",
      " [ 1  4 64 81 25 64  1  4 16]\n",
      " [ 0 36 16 16  9 81  0  1  1]\n",
      " [ 0  1  1 49  4 81  0  0  0]\n",
      " [ 0  0  0 64  4  4  0  0  0]\n",
      " [ 0  0  0  1  9  1  0  0  0]\n",
      " [ 0  0  0  0  1  0  0  0  0]\n",
      " [ 0  0  0  0  0  0  0  0  0]]\n"
     ]
    },
    {
     "data": {
      "application/vnd.jupyter.widget-view+json": {
       "model_id": "ad5f706682854f2cab967e8f7e400e3a"
      }
     },
     "metadata": {},
     "output_type": "display_data"
    },
    {
     "name": "stdout",
     "output_type": "stream",
     "text": [
      "\n",
      "batch 5\n",
      "  minibatch loss: 0.015287562273442745\n",
      "    input     > [[4 6 2 6 6 7 8 5 2]\n",
      " [6 6 8 6 3 8 9 3 3]\n",
      " [3 9 2 8 9 3 9 6 2]\n",
      " [0 2 8 9 5 8 0 2 4]\n",
      " [0 6 4 4 3 9 0 0 0]\n",
      " [0 0 0 7 2 9 0 0 0]\n",
      " [0 0 0 8 2 2 0 0 0]\n",
      " [0 0 0 0 3 0 0 0 0]\n",
      " [0 0 0 0 0 0 0 0 0]]\n",
      "    predicted > [[16 36  4 36 36 49 64 25  4]\n",
      " [36 36 64 36  9 64 81  9  9]\n",
      " [ 9 81  4 64 81  9 81 36  4]\n",
      " [ 1  4 64 81 25 64  1  4 16]\n",
      " [ 0 36 16 16  9 81  0  1  1]\n",
      " [ 0  1  1 49  4 81  0  0  0]\n",
      " [ 0  0  0 64  4  4  0  0  0]\n",
      " [ 0  0  0  1  9  1  0  0  0]\n",
      " [ 0  0  0  0  1  0  0  0  0]\n",
      " [ 0  0  0  0  0  0  0  0  0]]\n"
     ]
    },
    {
     "data": {
      "application/vnd.jupyter.widget-view+json": {
       "model_id": "3d5b472686394910a9764aaec18a8a75"
      }
     },
     "metadata": {},
     "output_type": "display_data"
    },
    {
     "name": "stdout",
     "output_type": "stream",
     "text": [
      "\n",
      "batch 6\n",
      "  minibatch loss: 0.012834947556257248\n",
      "    input     > [[4 6 2 6 6 7 8 5 2]\n",
      " [6 6 8 6 3 8 9 3 3]\n",
      " [3 9 2 8 9 3 9 6 2]\n",
      " [0 2 8 9 5 8 0 2 4]\n",
      " [0 6 4 4 3 9 0 0 0]\n",
      " [0 0 0 7 2 9 0 0 0]\n",
      " [0 0 0 8 2 2 0 0 0]\n",
      " [0 0 0 0 3 0 0 0 0]\n",
      " [0 0 0 0 0 0 0 0 0]]\n",
      "    predicted > [[16 36  4 36 36 49 64 25  4]\n",
      " [36 36 64 36  9 64 81  9  9]\n",
      " [ 9 81  4 64 81  9 81 36  4]\n",
      " [ 1  4 64 81 25 64  1  4 16]\n",
      " [ 0 36 16 16  9 81  0  1  1]\n",
      " [ 0  1  1 49  4 81  0  0  0]\n",
      " [ 0  0  0 64  4  4  0  0  0]\n",
      " [ 0  0  0  1  9  1  0  0  0]\n",
      " [ 0  0  0  0  1  0  0  0  0]\n",
      " [ 0  0  0  0  0  0  0  0  0]]\n"
     ]
    },
    {
     "data": {
      "application/vnd.jupyter.widget-view+json": {
       "model_id": "2dc54576b9104a31ba0d1052632506a5"
      }
     },
     "metadata": {},
     "output_type": "display_data"
    },
    {
     "name": "stdout",
     "output_type": "stream",
     "text": [
      "\n",
      "batch 7\n",
      "  minibatch loss: 0.011493828147649765\n",
      "    input     > [[4 6 2 6 6 7 8 5 2]\n",
      " [6 6 8 6 3 8 9 3 3]\n",
      " [3 9 2 8 9 3 9 6 2]\n",
      " [0 2 8 9 5 8 0 2 4]\n",
      " [0 6 4 4 3 9 0 0 0]\n",
      " [0 0 0 7 2 9 0 0 0]\n",
      " [0 0 0 8 2 2 0 0 0]\n",
      " [0 0 0 0 3 0 0 0 0]\n",
      " [0 0 0 0 0 0 0 0 0]]\n",
      "    predicted > [[16 36  4 36 36 49 64 25  4]\n",
      " [36 36 64 36  9 64 81  9  9]\n",
      " [ 9 81  4 64 81  9 81 36  4]\n",
      " [ 1  4 64 81 25 64  1  4 16]\n",
      " [ 0 36 16 16  9 81  0  1  1]\n",
      " [ 0  1  1 49  4 81  0  0  0]\n",
      " [ 0  0  0 64  4  4  0  0  0]\n",
      " [ 0  0  0  1  9  1  0  0  0]\n",
      " [ 0  0  0  0  1  0  0  0  0]\n",
      " [ 0  0  0  0  0  0  0  0  0]]\n"
     ]
    },
    {
     "data": {
      "application/vnd.jupyter.widget-view+json": {
       "model_id": "f666e63eb2ae4376bc05646880e8f815"
      }
     },
     "metadata": {},
     "output_type": "display_data"
    },
    {
     "name": "stdout",
     "output_type": "stream",
     "text": [
      "\n"
     ]
    },
    {
     "ename": "KeyboardInterrupt",
     "evalue": "",
     "output_type": "error",
     "traceback": [
      "\u001b[0;31m---------------------------------------------------------------------------\u001b[0m",
      "\u001b[0;31mKeyboardInterrupt\u001b[0m                         Traceback (most recent call last)",
      "\u001b[0;32m<ipython-input-23-88158b9ca680>\u001b[0m in \u001b[0;36m<module>\u001b[0;34m()\u001b[0m\n\u001b[1;32m     11\u001b[0m             \u001b[0mtr_da\u001b[0m \u001b[0;34m=\u001b[0m \u001b[0mget_train_batch\u001b[0m\u001b[0;34m(\u001b[0m\u001b[0mj\u001b[0m\u001b[0;34m)\u001b[0m\u001b[0;34m\u001b[0m\u001b[0m\n\u001b[1;32m     12\u001b[0m             \u001b[0mfeed_dict\u001b[0m\u001b[0;34m=\u001b[0m\u001b[0;34m{\u001b[0m\u001b[0mencoder_input\u001b[0m\u001b[0;34m:\u001b[0m\u001b[0mtr_da\u001b[0m\u001b[0;34m[\u001b[0m\u001b[0;34m'encoder'\u001b[0m\u001b[0;34m]\u001b[0m\u001b[0;34m,\u001b[0m\u001b[0mdecoder_target\u001b[0m\u001b[0;34m:\u001b[0m\u001b[0mtr_da\u001b[0m\u001b[0;34m[\u001b[0m\u001b[0;34m'decoder_tar'\u001b[0m\u001b[0;34m]\u001b[0m\u001b[0;34m,\u001b[0m\u001b[0mdecoder_input\u001b[0m\u001b[0;34m:\u001b[0m\u001b[0mtr_da\u001b[0m\u001b[0;34m[\u001b[0m\u001b[0;34m'decoder_'\u001b[0m\u001b[0;34m]\u001b[0m\u001b[0;34m}\u001b[0m\u001b[0;34m\u001b[0m\u001b[0m\n\u001b[0;32m---> 13\u001b[0;31m             \u001b[0m_\u001b[0m\u001b[0;34m,\u001b[0m \u001b[0ml\u001b[0m \u001b[0;34m=\u001b[0m \u001b[0msess\u001b[0m\u001b[0;34m.\u001b[0m\u001b[0mrun\u001b[0m\u001b[0;34m(\u001b[0m\u001b[0;34m[\u001b[0m\u001b[0mtrain\u001b[0m\u001b[0;34m,\u001b[0m \u001b[0mloss\u001b[0m\u001b[0;34m]\u001b[0m\u001b[0;34m,\u001b[0m\u001b[0mfeed_dict\u001b[0m\u001b[0;34m)\u001b[0m\u001b[0;34m\u001b[0m\u001b[0m\n\u001b[0m\u001b[1;32m     14\u001b[0m             \u001b[0mloss_track\u001b[0m\u001b[0;34m.\u001b[0m\u001b[0mappend\u001b[0m\u001b[0;34m(\u001b[0m\u001b[0ml\u001b[0m\u001b[0;34m)\u001b[0m\u001b[0;34m\u001b[0m\u001b[0m\n\u001b[1;32m     15\u001b[0m \u001b[0;34m\u001b[0m\u001b[0m\n",
      "\u001b[0;32m/home/ANANT/apal/.local/lib/python3.6/site-packages/tensorflow/python/client/session.py\u001b[0m in \u001b[0;36mrun\u001b[0;34m(self, fetches, feed_dict, options, run_metadata)\u001b[0m\n\u001b[1;32m    887\u001b[0m     \u001b[0;32mtry\u001b[0m\u001b[0;34m:\u001b[0m\u001b[0;34m\u001b[0m\u001b[0m\n\u001b[1;32m    888\u001b[0m       result = self._run(None, fetches, feed_dict, options_ptr,\n\u001b[0;32m--> 889\u001b[0;31m                          run_metadata_ptr)\n\u001b[0m\u001b[1;32m    890\u001b[0m       \u001b[0;32mif\u001b[0m \u001b[0mrun_metadata\u001b[0m\u001b[0;34m:\u001b[0m\u001b[0;34m\u001b[0m\u001b[0m\n\u001b[1;32m    891\u001b[0m         \u001b[0mproto_data\u001b[0m \u001b[0;34m=\u001b[0m \u001b[0mtf_session\u001b[0m\u001b[0;34m.\u001b[0m\u001b[0mTF_GetBuffer\u001b[0m\u001b[0;34m(\u001b[0m\u001b[0mrun_metadata_ptr\u001b[0m\u001b[0;34m)\u001b[0m\u001b[0;34m\u001b[0m\u001b[0m\n",
      "\u001b[0;32m/home/ANANT/apal/.local/lib/python3.6/site-packages/tensorflow/python/client/session.py\u001b[0m in \u001b[0;36m_run\u001b[0;34m(self, handle, fetches, feed_dict, options, run_metadata)\u001b[0m\n\u001b[1;32m   1118\u001b[0m     \u001b[0;32mif\u001b[0m \u001b[0mfinal_fetches\u001b[0m \u001b[0;32mor\u001b[0m \u001b[0mfinal_targets\u001b[0m \u001b[0;32mor\u001b[0m \u001b[0;34m(\u001b[0m\u001b[0mhandle\u001b[0m \u001b[0;32mand\u001b[0m \u001b[0mfeed_dict_tensor\u001b[0m\u001b[0;34m)\u001b[0m\u001b[0;34m:\u001b[0m\u001b[0;34m\u001b[0m\u001b[0m\n\u001b[1;32m   1119\u001b[0m       results = self._do_run(handle, final_targets, final_fetches,\n\u001b[0;32m-> 1120\u001b[0;31m                              feed_dict_tensor, options, run_metadata)\n\u001b[0m\u001b[1;32m   1121\u001b[0m     \u001b[0;32melse\u001b[0m\u001b[0;34m:\u001b[0m\u001b[0;34m\u001b[0m\u001b[0m\n\u001b[1;32m   1122\u001b[0m       \u001b[0mresults\u001b[0m \u001b[0;34m=\u001b[0m \u001b[0;34m[\u001b[0m\u001b[0;34m]\u001b[0m\u001b[0;34m\u001b[0m\u001b[0m\n",
      "\u001b[0;32m/home/ANANT/apal/.local/lib/python3.6/site-packages/tensorflow/python/client/session.py\u001b[0m in \u001b[0;36m_do_run\u001b[0;34m(self, handle, target_list, fetch_list, feed_dict, options, run_metadata)\u001b[0m\n\u001b[1;32m   1315\u001b[0m     \u001b[0;32mif\u001b[0m \u001b[0mhandle\u001b[0m \u001b[0;32mis\u001b[0m \u001b[0;32mNone\u001b[0m\u001b[0;34m:\u001b[0m\u001b[0;34m\u001b[0m\u001b[0m\n\u001b[1;32m   1316\u001b[0m       return self._do_call(_run_fn, self._session, feeds, fetches, targets,\n\u001b[0;32m-> 1317\u001b[0;31m                            options, run_metadata)\n\u001b[0m\u001b[1;32m   1318\u001b[0m     \u001b[0;32melse\u001b[0m\u001b[0;34m:\u001b[0m\u001b[0;34m\u001b[0m\u001b[0m\n\u001b[1;32m   1319\u001b[0m       \u001b[0;32mreturn\u001b[0m \u001b[0mself\u001b[0m\u001b[0;34m.\u001b[0m\u001b[0m_do_call\u001b[0m\u001b[0;34m(\u001b[0m\u001b[0m_prun_fn\u001b[0m\u001b[0;34m,\u001b[0m \u001b[0mself\u001b[0m\u001b[0;34m.\u001b[0m\u001b[0m_session\u001b[0m\u001b[0;34m,\u001b[0m \u001b[0mhandle\u001b[0m\u001b[0;34m,\u001b[0m \u001b[0mfeeds\u001b[0m\u001b[0;34m,\u001b[0m \u001b[0mfetches\u001b[0m\u001b[0;34m)\u001b[0m\u001b[0;34m\u001b[0m\u001b[0m\n",
      "\u001b[0;32m/home/ANANT/apal/.local/lib/python3.6/site-packages/tensorflow/python/client/session.py\u001b[0m in \u001b[0;36m_do_call\u001b[0;34m(self, fn, *args)\u001b[0m\n\u001b[1;32m   1321\u001b[0m   \u001b[0;32mdef\u001b[0m \u001b[0m_do_call\u001b[0m\u001b[0;34m(\u001b[0m\u001b[0mself\u001b[0m\u001b[0;34m,\u001b[0m \u001b[0mfn\u001b[0m\u001b[0;34m,\u001b[0m \u001b[0;34m*\u001b[0m\u001b[0margs\u001b[0m\u001b[0;34m)\u001b[0m\u001b[0;34m:\u001b[0m\u001b[0;34m\u001b[0m\u001b[0m\n\u001b[1;32m   1322\u001b[0m     \u001b[0;32mtry\u001b[0m\u001b[0;34m:\u001b[0m\u001b[0;34m\u001b[0m\u001b[0m\n\u001b[0;32m-> 1323\u001b[0;31m       \u001b[0;32mreturn\u001b[0m \u001b[0mfn\u001b[0m\u001b[0;34m(\u001b[0m\u001b[0;34m*\u001b[0m\u001b[0margs\u001b[0m\u001b[0;34m)\u001b[0m\u001b[0;34m\u001b[0m\u001b[0m\n\u001b[0m\u001b[1;32m   1324\u001b[0m     \u001b[0;32mexcept\u001b[0m \u001b[0merrors\u001b[0m\u001b[0;34m.\u001b[0m\u001b[0mOpError\u001b[0m \u001b[0;32mas\u001b[0m \u001b[0me\u001b[0m\u001b[0;34m:\u001b[0m\u001b[0;34m\u001b[0m\u001b[0m\n\u001b[1;32m   1325\u001b[0m       \u001b[0mmessage\u001b[0m \u001b[0;34m=\u001b[0m \u001b[0mcompat\u001b[0m\u001b[0;34m.\u001b[0m\u001b[0mas_text\u001b[0m\u001b[0;34m(\u001b[0m\u001b[0me\u001b[0m\u001b[0;34m.\u001b[0m\u001b[0mmessage\u001b[0m\u001b[0;34m)\u001b[0m\u001b[0;34m\u001b[0m\u001b[0m\n",
      "\u001b[0;32m/home/ANANT/apal/.local/lib/python3.6/site-packages/tensorflow/python/client/session.py\u001b[0m in \u001b[0;36m_run_fn\u001b[0;34m(session, feed_dict, fetch_list, target_list, options, run_metadata)\u001b[0m\n\u001b[1;32m   1300\u001b[0m           return tf_session.TF_Run(session, options,\n\u001b[1;32m   1301\u001b[0m                                    \u001b[0mfeed_dict\u001b[0m\u001b[0;34m,\u001b[0m \u001b[0mfetch_list\u001b[0m\u001b[0;34m,\u001b[0m \u001b[0mtarget_list\u001b[0m\u001b[0;34m,\u001b[0m\u001b[0;34m\u001b[0m\u001b[0m\n\u001b[0;32m-> 1302\u001b[0;31m                                    status, run_metadata)\n\u001b[0m\u001b[1;32m   1303\u001b[0m \u001b[0;34m\u001b[0m\u001b[0m\n\u001b[1;32m   1304\u001b[0m     \u001b[0;32mdef\u001b[0m \u001b[0m_prun_fn\u001b[0m\u001b[0;34m(\u001b[0m\u001b[0msession\u001b[0m\u001b[0;34m,\u001b[0m \u001b[0mhandle\u001b[0m\u001b[0;34m,\u001b[0m \u001b[0mfeed_dict\u001b[0m\u001b[0;34m,\u001b[0m \u001b[0mfetch_list\u001b[0m\u001b[0;34m)\u001b[0m\u001b[0;34m:\u001b[0m\u001b[0;34m\u001b[0m\u001b[0m\n",
      "\u001b[0;31mKeyboardInterrupt\u001b[0m: "
     ]
    }
   ],
   "source": [
    "from tqdm import tqdm_notebook as tq\n",
    "max_batches = 30\n",
    "batches_in_epoch = 1\n",
    "loss_track = []\n",
    "\n",
    "with tf.Session() as sess:\n",
    "    sess.run(tf.global_variables_initializer())\n",
    "    \n",
    "    for batch in range(max_batches):\n",
    "        for j in tq(range(len(train_data))):\n",
    "            tr_da = get_train_batch(j)\n",
    "            feed_dict={encoder_input:tr_da['encoder'],decoder_target:tr_da['decoder_tar'],decoder_input:tr_da['decoder_']}\n",
    "            _, l = sess.run([train, loss],feed_dict)\n",
    "            loss_track.append(l)\n",
    "\n",
    "        if batch == 0 or batch % batches_in_epoch == 0:\n",
    "            print('batch {}'.format(batch))\n",
    "            print('  minibatch loss: {}'.format(sess.run(loss,feed_dict)))\n",
    "            predict_ = sess.run(prediction, feed_dict)\n",
    "            \n",
    "            print('    input     > {}'.format(tr_da['encoder']))\n",
    "            print('    predicted > {}'.format(predict_))\n",
    "            "
   ]
  },
  {
   "cell_type": "code",
   "execution_count": 24,
   "metadata": {
    "collapsed": false
   },
   "outputs": [
    {
     "name": "stdout",
     "output_type": "stream",
     "text": [
      "loss 0.0025 after 132910 examples (batch_size=10)\n"
     ]
    },
    {
     "data": {
      "image/png": "[encoded data removed]",
      "text/plain": [
       "<Figure size 432x288 with 1 Axes>"
      ]
     },
     "metadata": {},
     "output_type": "display_data"
    }
   ],
   "source": [
    "%matplotlib inline\n",
    "import matplotlib.pyplot as plt\n",
    "plt.plot(loss_track)\n",
    "print('loss {:.4f} after {} examples (batch_size={})'.format(loss_track[-1], len(loss_track)*batch_size, batch_size))"
   ]
  },
  {
   "cell_type": "code",
   "execution_count": null,
   "metadata": {
    "collapsed": true
   },
   "outputs": [],
   "source": []
  }
 ],
 "metadata": {
  "kernelspec": {
   "display_name": "Python 3",
   "language": "python",
   "name": "python3"
  },
  "language_info": {
   "codemirror_mode": {
    "name": "ipython",
    "version": 3
   },
   "file_extension": ".py",
   "mimetype": "text/x-python",
   "name": "python",
   "nbconvert_exporter": "python",
   "pygments_lexer": "ipython3",
   "version": "3.6.3"
  }
 },
 "nbformat": 4,
 "nbformat_minor": 2
}
