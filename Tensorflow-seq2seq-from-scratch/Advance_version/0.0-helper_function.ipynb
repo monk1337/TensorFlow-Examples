{
  "nbformat": 4,
  "nbformat_minor": 0,
  "metadata": {
    "colab": {
      "name": "helper_function.ipynb",
      "version": "0.3.2",
      "views": {},
      "default_view": {},
      "provenance": []
    },
    "kernelspec": {
      "name": "python3",
      "display_name": "Python 3"
    }
  },
  "cells": [
    {
      "metadata": {
        "id": "pswXVhJ5yU3c",
        "colab_type": "code",
        "colab": {
          "autoexec": {
            "startup": false,
            "wait_interval": 0
          }
        }
      },
      "cell_type": "code",
      "source": [
        "import tensorflow as tf\n",
        "import numpy as np\n",
        "from tensorflow.contrib.seq2seq import TrainingHelper"
      ],
      "execution_count": 0,
      "outputs": []
    },
    {
      "metadata": {
        "id": "7zZjXix9yeQT",
        "colab_type": "code",
        "colab": {
          "autoexec": {
            "startup": false,
            "wait_interval": 0
          }
        }
      },
      "cell_type": "code",
      "source": [
        "tf.reset_default_graph()\n",
        "input_data = np.random.randint(0,10,[2,5])\n",
        "sentence_length = [len(i) for i in input_data]\n",
        "input_place = tf.placeholder(name='inpu',dtype=tf.int32,shape=[2,5])  #batch_major input\n",
        "sequence_length_s= tf.placeholder(name='seq_len',dtype=tf.int32,shape=[None])\n",
        "custom_embedding = tf.get_variable(name='embedding',shape=[10,50],dtype=tf.float32,initializer=tf.random_uniform_initializer(-0.01,0.01))\n",
        "\n"
      ],
      "execution_count": 0,
      "outputs": []
    },
    {
      "metadata": {
        "id": "3MvUg_f1zEYF",
        "colab_type": "code",
        "colab": {
          "autoexec": {
            "startup": false,
            "wait_interval": 0
          }
        }
      },
      "cell_type": "code",
      "source": [
        "embedd_input = tf.nn.embedding_lookup(custom_embedding,input_place)\n",
        "\n",
        "helper_fun = TrainingHelper(inputs=input_place,sequence_length=sequence_length_s,time_major=False)\n",
        "\n",
        "operation = tf.add(input_place,input_place)\n",
        "\n",
        "ok=helper_fun.initialize(name=None)\n",
        "\n"
      ],
      "execution_count": 0,
      "outputs": []
    },
    {
      "metadata": {
        "id": "YYMY1dXxzXH5",
        "colab_type": "code",
        "colab": {
          "autoexec": {
            "startup": false,
            "wait_interval": 0
          },
          "base_uri": "https://localhost:8080/",
          "height": 34
        },
        "outputId": "c5f30c57-be6b-4387-f52f-73945529493b",
        "executionInfo": {
          "status": "ok",
          "timestamp": 1530534979288,
          "user_tz": -330,
          "elapsed": 897,
          "user": {
            "displayName": "ayodhyankit paul",
            "photoUrl": "//lh3.googleusercontent.com/-aLSMOExWjxQ/AAAAAAAAAAI/AAAAAAAAAAc/yPMgEhPgnpk/s50-c-k-no/photo.jpg",
            "userId": "106815194044651409765"
          }
        }
      },
      "cell_type": "code",
      "source": [
        "with tf.Session() as sess:\n",
        "  sess.run(tf.global_variables_initializer())\n",
        "  result,b=sess.run([operation,ok],feed_dict={input_place:input_data,sequence_length_s:sentence_length})\n",
        "  print(b,embedd_input.shape)\n"
      ],
      "execution_count": 96,
      "outputs": [
        {
          "output_type": "stream",
          "text": [
            "(array([False, False]), array([3, 1], dtype=int32)) (2, 5, 50)\n"
          ],
          "name": "stdout"
        }
      ]
    },
    {
      "metadata": {
        "id": "h0uOyyWB1OGT",
        "colab_type": "code",
        "colab": {
          "autoexec": {
            "startup": false,
            "wait_interval": 0
          }
        }
      },
      "cell_type": "code",
      "source": [
        ""
      ],
      "execution_count": 0,
      "outputs": []
    }
  ]
}
