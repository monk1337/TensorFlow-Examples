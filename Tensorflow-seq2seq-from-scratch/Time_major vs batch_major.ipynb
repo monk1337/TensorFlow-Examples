{
 "cells": [
  {
   "cell_type": "code",
   "execution_count": 36,
   "metadata": {
    "ExecuteTime": {
     "end_time": "2018-06-30T16:46:21.786457Z",
     "start_time": "2018-06-30T16:46:21.781673Z"
    },
    "collapsed": true
   },
   "outputs": [],
   "source": [
    "import tensorflow as tf\n",
    "import numpy as np\n",
    "tf.reset_default_graph()"
   ]
  },
  {
   "cell_type": "code",
   "execution_count": 37,
   "metadata": {
    "ExecuteTime": {
     "end_time": "2018-06-30T16:46:23.393328Z",
     "start_time": "2018-06-30T16:46:23.383303Z"
    },
    "collapsed": true
   },
   "outputs": [],
   "source": [
    "#In seq to seq you need time major format for encoder and decoder so I tried some experiment with rnn and lstm as cell\n",
    "\n",
    "\n",
    "data=np.random.randint(0,10,[3,4,5])\n",
    "\n",
    "#our input is batch major [ batch , time , dim]\n",
    "\n",
    "\n",
    "\n",
    "x_input = tf.placeholder(name='inputx',shape=[3,4,5],dtype=tf.float32)"
   ]
  },
  {
   "cell_type": "code",
   "execution_count": 38,
   "metadata": {
    "ExecuteTime": {
     "end_time": "2018-06-30T16:46:24.663218Z",
     "start_time": "2018-06-30T16:46:24.467650Z"
    },
    "collapsed": false
   },
   "outputs": [],
   "source": [
    "cell=tf.contrib.rnn.LSTMCell(num_units=20)\n",
    "\n",
    "#now if we select batch major rnn output will be  [batch,rnn_dim]\n",
    "#if we select time major then rnn output will be  [time_stamps,rnn_dim]\n",
    "\n",
    "\n",
    "model_a,(batch_major_fc,fh) = tf.nn.dynamic_rnn(cell=cell,inputs=x_input,time_major=False,dtype=tf.float32)\n",
    "model_b, (time_major_fc,fh)  = tf.nn.dynamic_rnn(cell=cell,inputs=x_input,time_major=True,dtype=tf.float32)\n"
   ]
  },
  {
   "cell_type": "code",
   "execution_count": 39,
   "metadata": {
    "ExecuteTime": {
     "end_time": "2018-06-30T16:46:26.238817Z",
     "start_time": "2018-06-30T16:46:26.179800Z"
    },
    "collapsed": false
   },
   "outputs": [
    {
     "name": "stdout",
     "output_type": "stream",
     "text": [
      "(3, 20) (4, 20)\n"
     ]
    }
   ],
   "source": [
    "with tf.Session() as sess:\n",
    "    sess.run(tf.global_variables_initializer())\n",
    "    batch_major,time_major =(sess.run([batch_major_fc,time_major_fc],feed_dict={x_input:data}))\n",
    "    print(batch_major.shape,time_major.shape)"
   ]
  },
  {
   "cell_type": "code",
   "execution_count": null,
   "metadata": {
    "collapsed": true
   },
   "outputs": [],
   "source": [
    "#(3, 4, 20) (4, 20) (4, 20)\n",
    "#(3, 4, 20) (3, 20) (3, 20)\n",
    "\n",
    "\n"
   ]
  }
 ],
 "metadata": {
  "kernelspec": {
   "display_name": "Python [anaconda]",
   "language": "python",
   "name": "Python [anaconda]"
  },
  "language_info": {
   "codemirror_mode": {
    "name": "ipython",
    "version": 3
   },
   "file_extension": ".py",
   "mimetype": "text/x-python",
   "name": "python",
   "nbconvert_exporter": "python",
   "pygments_lexer": "ipython3",
   "version": "3.5.4"
  }
 },
 "nbformat": 4,
 "nbformat_minor": 2
}
